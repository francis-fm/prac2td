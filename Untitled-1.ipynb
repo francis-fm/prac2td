{
 "cells": [
  {
   "cell_type": "code",
   "execution_count": 51,
   "metadata": {},
   "outputs": [],
   "source": [
    "import pandas as pd\n",
    "import numpy as np\n",
    "import os"
   ]
  },
  {
   "cell_type": "code",
   "execution_count": 52,
   "metadata": {},
   "outputs": [
    {
     "data": {
      "text/plain": [
       "Index(['Descripción del producto', 'Precio con descuento',\n",
       "       'Precio sin descuento', 'Descuento', 'Categoría', 'Subcategoría',\n",
       "       'Imagen', 'Atributos', 'Fecha y hora de extracción'],\n",
       "      dtype='object')"
      ]
     },
     "execution_count": 52,
     "metadata": {},
     "output_type": "execute_result"
    }
   ],
   "source": [
    "# Leer los archivos CSV\n",
    "## Database prac\n",
    "db_prac = pd.read_csv(\"dataset.csv\")\n",
    "db_prac.columns"
   ]
  },
  {
   "cell_type": "code",
   "execution_count": 53,
   "metadata": {},
   "outputs": [
    {
     "data": {
      "text/plain": [
       "'## Database Expanded Dataset\\ndb_exp = pd.read_csv(\"Expanded_Dataset.csv\")\\ndb_exp.columns\\n\\n# Filtrando solo para el año 2025\\ndb_exp_2025 = db_exp[db_exp[\\'Year\\'] == 2024]\\nlen(db_exp_2025)\\n\\n# Contamos cuantos Product Model tienen la palabra Galaxy\\ndb_exp[\\'Product Model\\'].str.contains(\\'Galaxy\\').sum()\\n\\ndb_exp'"
      ]
     },
     "execution_count": 53,
     "metadata": {},
     "output_type": "execute_result"
    }
   ],
   "source": [
    "\"\"\"## Database Expanded Dataset\n",
    "db_exp = pd.read_csv(\"Expanded_Dataset.csv\")\n",
    "db_exp.columns\n",
    "\n",
    "# Filtrando solo para el año 2025\n",
    "db_exp_2025 = db_exp[db_exp['Year'] == 2024]\n",
    "len(db_exp_2025)\n",
    "\n",
    "# Contamos cuantos Product Model tienen la palabra Galaxy\n",
    "db_exp['Product Model'].str.contains('Galaxy').sum()\n",
    "\n",
    "db_exp\"\"\""
   ]
  },
  {
   "cell_type": "markdown",
   "metadata": {},
   "source": [
    "Podemo sacar elpromedio de undiades vendidas historico."
   ]
  },
  {
   "cell_type": "code",
   "execution_count": 54,
   "metadata": {},
   "outputs": [
    {
     "data": {
      "text/plain": [
       "'## Probando la base samsung_customer_reviews.csv -> DESCARTADO\\ndb_sams = pd.read_csv(\"samsung_customer_reviews.csv\")\\ndb_sams\\n\\n# Pasamosa fecha la columna Review Date\\ndb_sams[\\'Review Date\\'] = pd.to_datetime(db_sams[\\'Review Date\\'], format=\\'%Y-%m-%d\\')\\n## Obtenemos todos los datos para el año 2025 y contamos el numero de datos\\ndb_sams_2025 = db_sams[db_sams[\\'Review Date\\'].dt.year == 2025]\\ndb_sams'"
      ]
     },
     "execution_count": 54,
     "metadata": {},
     "output_type": "execute_result"
    }
   ],
   "source": [
    "\"\"\"## Probando la base samsung_customer_reviews.csv -> DESCARTADO\n",
    "db_sams = pd.read_csv(\"samsung_customer_reviews.csv\")\n",
    "db_sams\n",
    "\n",
    "# Pasamosa fecha la columna Review Date\n",
    "db_sams['Review Date'] = pd.to_datetime(db_sams['Review Date'], format='%Y-%m-%d')\n",
    "## Obtenemos todos los datos para el año 2025 y contamos el numero de datos\n",
    "db_sams_2025 = db_sams[db_sams['Review Date'].dt.year == 2025]\n",
    "db_sams\"\"\""
   ]
  },
  {
   "cell_type": "code",
   "execution_count": 55,
   "metadata": {},
   "outputs": [
    {
     "data": {
      "text/plain": [
       "'## Base de datos user_behavior_dataset.csv -> DESCARTADO\\ndb_user = pd.read_csv(\"user_behavior_dataset.csv\")\\ndb_user'"
      ]
     },
     "execution_count": 55,
     "metadata": {},
     "output_type": "execute_result"
    }
   ],
   "source": [
    "\"\"\"## Base de datos user_behavior_dataset.csv -> DESCARTADO\n",
    "db_user = pd.read_csv(\"user_behavior_dataset.csv\")\n",
    "db_user\"\"\""
   ]
  },
  {
   "cell_type": "markdown",
   "metadata": {},
   "source": [
    "## Samsung Customer Reviews"
   ]
  },
  {
   "cell_type": "code",
   "execution_count": 56,
   "metadata": {},
   "outputs": [
    {
     "data": {
      "text/plain": [
       "'#\\xa0Elegimos la base de datos samsung_customer_reviews.csv\\ndb_sams = pd.read_csv(\"samsung_customer_reviews.csv\")\\ndb_sams\\n\\n# Obtenemos el rating promedio por Product Name y guardamos en un nuevo dataframe\\ndb_sams_avg = db_sams.groupby(\\'Product Name\\')[\\'Rating\\'].mean().reset_index()\\ndb_sams_avg'"
      ]
     },
     "execution_count": 56,
     "metadata": {},
     "output_type": "execute_result"
    }
   ],
   "source": [
    "\"\"\"# Elegimos la base de datos samsung_customer_reviews.csv\n",
    "db_sams = pd.read_csv(\"samsung_customer_reviews.csv\")\n",
    "db_sams\n",
    "\n",
    "# Obtenemos el rating promedio por Product Name y guardamos en un nuevo dataframe\n",
    "db_sams_avg = db_sams.groupby('Product Name')['Rating'].mean().reset_index()\n",
    "db_sams_avg\"\"\""
   ]
  },
  {
   "cell_type": "code",
   "execution_count": 57,
   "metadata": {},
   "outputs": [
    {
     "data": {
      "text/plain": [
       "'# Eliminamos de la columna Product Name lo que diga \"Samsung\" o \"samsung\"\\ndb_sams[\\'Product Name\\'] = db_sams[\\'Product Name\\'].str.replace(\\'Samsung\\', \\'\\')\\ndb_sams[\\'Product Name\\'] = db_sams[\\'Product Name\\'].str.replace(\\'samsung\\', \\'\\')\\n\\ndb_sams'"
      ]
     },
     "execution_count": 57,
     "metadata": {},
     "output_type": "execute_result"
    }
   ],
   "source": [
    "\"\"\"# Eliminamos de la columna Product Name lo que diga \"Samsung\" o \"samsung\"\n",
    "db_sams['Product Name'] = db_sams['Product Name'].str.replace('Samsung', '')\n",
    "db_sams['Product Name'] = db_sams['Product Name'].str.replace('samsung', '')\n",
    "\n",
    "db_sams\"\"\""
   ]
  },
  {
   "cell_type": "markdown",
   "metadata": {},
   "source": [
    "## Data set original"
   ]
  },
  {
   "cell_type": "code",
   "execution_count": 58,
   "metadata": {},
   "outputs": [
    {
     "data": {
      "text/plain": [
       "'# Traemos nuestra base de datos original\\ndb_prac = pd.read_csv(\"dataset.csv\")\\ndb_prac\\n\\n# Verificamos que en la Descripción del producto no contenganla palabra \"Samsung\" o \"samsung\"\\ndb_prac[\\'Descripción del producto\\'].str.contains(\\'Samsung\\', case=False).sum()\\n\\n# Eliminamos \"USD$\" de las columnas Precio con descuento y Precio sin descuento\\n# Reemplazamos las comas por puntos y eliminamos espacios adicionales\\ndb_prac[\\'Precio con descuento\\'] = db_prac[\\'Precio con descuento\\'].str.replace(\\',\\', \\'\\').str.strip()\\ndb_prac[\\'Precio sin descuento\\'] = db_prac[\\'Precio sin descuento\\'].str.replace(\\',\\', \\'\\').str.strip()\\n\\n# Eliminamos el prefijo \"US$ \" de las columnas\\ndb_prac[\\'Precio con descuento\\'] = db_prac[\\'Precio con descuento\\'].str.replace(\\'US$ \\', \\'\\', regex=False)\\ndb_prac[\\'Precio sin descuento\\'] = db_prac[\\'Precio sin descuento\\'].str.replace(\\'US$ \\', \\'\\', regex=False)\\n# Convertimos las columnas Precio con descuento y Precio sin descuento a float\\ndb_prac[\\'Precio con descuento\\'] = db_prac[\\'Precio con descuento\\'].astype(float)\\ndb_prac[\\'Precio sin descuento\\'] = db_prac[\\'Precio sin descuento\\'].astype(float)\\n\\n#Eliminamos el signo de porcentaje de la columna Descuento y pasamos a float y dividimos entre 100\\n# Eliminamos espacios adicionales y caracteres no numéricos en la columna Descuento\\n#Eliminamos el signo \"-\" de la columna Descuento\\ndb_prac[\\'Descuento\\'] = db_prac[\\'Descuento\\'].str.replace(\\'-\\', \\'\\', regex=False)\\ndb_prac[\\'Descuento\\'] = db_prac[\\'Descuento\\'].str.replace(r\\'[^0-9.-]\\', \\'\\', regex=True).str.strip()\\ndb_prac[\\'Descuento\\'] = db_prac[\\'Descuento\\'].astype(float)\\n# Dividimos entre 100\\ndb_prac[\\'Descuento\\'] = db_prac[\\'Descuento\\'] / 100\\n\\ndb_prac'"
      ]
     },
     "execution_count": 58,
     "metadata": {},
     "output_type": "execute_result"
    }
   ],
   "source": [
    "\"\"\"# Traemos nuestra base de datos original\n",
    "db_prac = pd.read_csv(\"dataset.csv\")\n",
    "db_prac\n",
    "\n",
    "# Verificamos que en la Descripción del producto no contenganla palabra \"Samsung\" o \"samsung\"\n",
    "db_prac['Descripción del producto'].str.contains('Samsung', case=False).sum()\n",
    "\n",
    "# Eliminamos \"USD$\" de las columnas Precio con descuento y Precio sin descuento\n",
    "# Reemplazamos las comas por puntos y eliminamos espacios adicionales\n",
    "db_prac['Precio con descuento'] = db_prac['Precio con descuento'].str.replace(',', '').str.strip()\n",
    "db_prac['Precio sin descuento'] = db_prac['Precio sin descuento'].str.replace(',', '').str.strip()\n",
    "\n",
    "# Eliminamos el prefijo \"US$ \" de las columnas\n",
    "db_prac['Precio con descuento'] = db_prac['Precio con descuento'].str.replace('US$ ', '', regex=False)\n",
    "db_prac['Precio sin descuento'] = db_prac['Precio sin descuento'].str.replace('US$ ', '', regex=False)\n",
    "# Convertimos las columnas Precio con descuento y Precio sin descuento a float\n",
    "db_prac['Precio con descuento'] = db_prac['Precio con descuento'].astype(float)\n",
    "db_prac['Precio sin descuento'] = db_prac['Precio sin descuento'].astype(float)\n",
    "\n",
    "#Eliminamos el signo de porcentaje de la columna Descuento y pasamos a float y dividimos entre 100\n",
    "# Eliminamos espacios adicionales y caracteres no numéricos en la columna Descuento\n",
    "#Eliminamos el signo \"-\" de la columna Descuento\n",
    "db_prac['Descuento'] = db_prac['Descuento'].str.replace('-', '', regex=False)\n",
    "db_prac['Descuento'] = db_prac['Descuento'].str.replace(r'[^0-9.-]', '', regex=True).str.strip()\n",
    "db_prac['Descuento'] = db_prac['Descuento'].astype(float)\n",
    "# Dividimos entre 100\n",
    "db_prac['Descuento'] = db_prac['Descuento'] / 100\n",
    "\n",
    "db_prac\"\"\""
   ]
  },
  {
   "cell_type": "code",
   "execution_count": 59,
   "metadata": {},
   "outputs": [
    {
     "data": {
      "text/plain": [
       "\"#\\xa0Productos únicos\\nlen(db_prac['Descripción del producto'].unique())\""
      ]
     },
     "execution_count": 59,
     "metadata": {},
     "output_type": "execute_result"
    }
   ],
   "source": [
    "\"\"\"# Productos únicos\n",
    "len(db_prac['Descripción del producto'].unique())\"\"\""
   ]
  },
  {
   "cell_type": "code",
   "execution_count": 60,
   "metadata": {},
   "outputs": [
    {
     "data": {
      "text/plain": [
       "'# Número de dias que se tiene\\ndb_prac[\"Fecha y hora de extracción\"] = pd.to_datetime(db_prac[\"Fecha y hora de extracción\"], format=\\'%Y-%m-%d %H:%M:%S\\')\\ndb_prac[\"Fecha y hora de extracción\"].dt.date.unique()\\n\\n\\ndb_prac[\"Fecha\"] = db_prac[\"Fecha y hora de extracción\"].dt.date'"
      ]
     },
     "execution_count": 60,
     "metadata": {},
     "output_type": "execute_result"
    }
   ],
   "source": [
    "\"\"\"# Número de dias que se tiene\n",
    "db_prac[\"Fecha y hora de extracción\"] = pd.to_datetime(db_prac[\"Fecha y hora de extracción\"], format='%Y-%m-%d %H:%M:%S')\n",
    "db_prac[\"Fecha y hora de extracción\"].dt.date.unique()\n",
    "\n",
    "\n",
    "db_prac[\"Fecha\"] = db_prac[\"Fecha y hora de extracción\"].dt.date\"\"\""
   ]
  },
  {
   "cell_type": "code",
   "execution_count": 61,
   "metadata": {},
   "outputs": [
    {
     "data": {
      "text/plain": [
       "'# Ordenando la base de datos por fecha y producto\\ndb_prac = db_prac.sort_values(by=[\"Descripción del producto\", \"Fecha\"])\\n# agrupando y calculando el cambio de precio\\ndb_prac[\"Precio al día siguiente\"] = db_prac.groupby(\"Descripción del producto\")[\"Precio con descuento\"].shift(-1)\\n# Cambio de precio\\ndb_prac[\"Cambio de precio\"] = (db_prac[\"Precio con descuento\"] != db_prac[\"Precio al día siguiente\"]).astype(int)\\n\\n# Revisando la data para ver como se ve\\nprint(db_prac[[\"Descripción del producto\", \"Fecha\", \"Precio sin descuento\", \"Precio con descuento\", \"Cambio de precio\"]].head(10))'"
      ]
     },
     "execution_count": 61,
     "metadata": {},
     "output_type": "execute_result"
    }
   ],
   "source": [
    "\"\"\"# Ordenando la base de datos por fecha y producto\n",
    "db_prac = db_prac.sort_values(by=[\"Descripción del producto\", \"Fecha\"])\n",
    "# agrupando y calculando el cambio de precio\n",
    "db_prac[\"Precio al día siguiente\"] = db_prac.groupby(\"Descripción del producto\")[\"Precio con descuento\"].shift(-1)\n",
    "# Cambio de precio\n",
    "db_prac[\"Cambio de precio\"] = (db_prac[\"Precio con descuento\"] != db_prac[\"Precio al día siguiente\"]).astype(int)\n",
    "\n",
    "# Revisando la data para ver como se ve\n",
    "print(db_prac[[\"Descripción del producto\", \"Fecha\", \"Precio sin descuento\", \"Precio con descuento\", \"Cambio de precio\"]].head(10))\"\"\""
   ]
  },
  {
   "cell_type": "code",
   "execution_count": 62,
   "metadata": {},
   "outputs": [
    {
     "data": {
      "text/plain": [
       "'# Día de la semana\\ndb_prac[\"dia semana\"] = pd.to_datetime(db_prac[\"Fecha\"]).apply(lambda x:x.weekday())\\n\\n# Descuento actual en %\\ndb_prac[\"porc descuento\"] = ((db_prac[\"Precio sin descuento\"] - db_prac[\"Precio con descuento\"]) / db_prac[\"Precio sin descuento\"]) * 100\\n\\n# Precio del día anterior\\ndb_prac[\"Precio del día anterior\"] = db_prac.groupby(\"Descripción del producto\")[\"Precio con descuento\"].shift(1)\\n\\n# Cambio absoluto con respecto aldía anterior\\ndb_prac[\"Cambio absoluto\"] = db_prac[\"Precio con descuento\"] - db_prac[\"Precio del día anterior\"]\\n\\n# Promedio histórico de descuento del producto hasta ese día\\ndb_prac[\"Promedio descuento producto\"] = db_prac.groupby(\"Descripción del producto\")[\"porc descuento\"].expanding().mean().reset_index(level=0, drop=True)\\n\\n# Codificación de las categorías y subcategorías\\ndb_prac[\"Categoría encoded\"] = db_prac[\"Categoría\"].astype(\"category\").cat.codes\\ndb_prac[\"Subcategoría encoded\"] = db_prac[\"Subcategoría\"].astype(\"category\").cat.codes\\n\\n# Precio al día siguiente\\ndb_prac[\"Precio al día siguiente\"] = db_prac.groupby(\"Descripción del producto\")[\"Precio con descuento\"].shift(-1)\\n\\n# Variable objetivo\\ndb_prac[\"delta precio target\"] = db_prac[\"Precio al día siguiente\"] - db_prac[\"Precio con descuento\"]'"
      ]
     },
     "execution_count": 62,
     "metadata": {},
     "output_type": "execute_result"
    }
   ],
   "source": [
    "\"\"\"# Día de la semana\n",
    "db_prac[\"dia semana\"] = pd.to_datetime(db_prac[\"Fecha\"]).apply(lambda x:x.weekday())\n",
    "\n",
    "# Descuento actual en %\n",
    "db_prac[\"porc descuento\"] = ((db_prac[\"Precio sin descuento\"] - db_prac[\"Precio con descuento\"]) / db_prac[\"Precio sin descuento\"]) * 100\n",
    "\n",
    "# Precio del día anterior\n",
    "db_prac[\"Precio del día anterior\"] = db_prac.groupby(\"Descripción del producto\")[\"Precio con descuento\"].shift(1)\n",
    "\n",
    "# Cambio absoluto con respecto aldía anterior\n",
    "db_prac[\"Cambio absoluto\"] = db_prac[\"Precio con descuento\"] - db_prac[\"Precio del día anterior\"]\n",
    "\n",
    "# Promedio histórico de descuento del producto hasta ese día\n",
    "db_prac[\"Promedio descuento producto\"] = db_prac.groupby(\"Descripción del producto\")[\"porc descuento\"].expanding().mean().reset_index(level=0, drop=True)\n",
    "\n",
    "# Codificación de las categorías y subcategorías\n",
    "db_prac[\"Categoría encoded\"] = db_prac[\"Categoría\"].astype(\"category\").cat.codes\n",
    "db_prac[\"Subcategoría encoded\"] = db_prac[\"Subcategoría\"].astype(\"category\").cat.codes\n",
    "\n",
    "# Precio al día siguiente\n",
    "db_prac[\"Precio al día siguiente\"] = db_prac.groupby(\"Descripción del producto\")[\"Precio con descuento\"].shift(-1)\n",
    "\n",
    "# Variable objetivo\n",
    "db_prac[\"delta precio target\"] = db_prac[\"Precio al día siguiente\"] - db_prac[\"Precio con descuento\"]\"\"\""
   ]
  },
  {
   "cell_type": "code",
   "execution_count": 63,
   "metadata": {},
   "outputs": [
    {
     "data": {
      "text/plain": [
       "'# ¿Cuántos precios únicos hay por producto?\\nprecios_por_producto = db_prac.groupby(\"Descripción del producto\")[\"Precio con descuento\"].nunique().reset_index()\\nprint(precios_por_producto[\"Precio con descuento\"].value_counts())\\n\\n'"
      ]
     },
     "execution_count": 63,
     "metadata": {},
     "output_type": "execute_result"
    }
   ],
   "source": [
    "\"\"\"# ¿Cuántos precios únicos hay por producto?\n",
    "precios_por_producto = db_prac.groupby(\"Descripción del producto\")[\"Precio con descuento\"].nunique().reset_index()\n",
    "print(precios_por_producto[\"Precio con descuento\"].value_counts())\n",
    "\n",
    "\"\"\""
   ]
  },
  {
   "cell_type": "code",
   "execution_count": 64,
   "metadata": {},
   "outputs": [
    {
     "data": {
      "text/plain": [
       "'# Variables para el modelo\\nfeatures = [\\n    \"Precio con descuento\",\\n    \"porc descuento\",\\n    \"Cambio absoluto\",\\n    \"Promedio descuento producto\",\\n    \"dia semana\",\\n    \"Categoría encoded\",\\n    \"Subcategoría encoded\"\\n]\\n\\n# Variableobjetivo del modelo\\ntarget = \"Cambio de precio\"\\ntarget = \"delta precio target\"\\n\\n#\\xa0Eliminamos filas con NaN\\ndb_model = db_prac.dropna(subset=features + [target])\\n\\n# Separaren train y test\\nX = db_model[features]\\ny = db_model[target]'"
      ]
     },
     "execution_count": 64,
     "metadata": {},
     "output_type": "execute_result"
    }
   ],
   "source": [
    "\"\"\"# Variables para el modelo\n",
    "features = [\n",
    "    \"Precio con descuento\",\n",
    "    \"porc descuento\",\n",
    "    \"Cambio absoluto\",\n",
    "    \"Promedio descuento producto\",\n",
    "    \"dia semana\",\n",
    "    \"Categoría encoded\",\n",
    "    \"Subcategoría encoded\"\n",
    "]\n",
    "\n",
    "# Variableobjetivo del modelo\n",
    "target = \"Cambio de precio\"\n",
    "target = \"delta precio target\"\n",
    "\n",
    "# Eliminamos filas con NaN\n",
    "db_model = db_prac.dropna(subset=features + [target])\n",
    "\n",
    "# Separaren train y test\n",
    "X = db_model[features]\n",
    "y = db_model[target]\"\"\""
   ]
  },
  {
   "cell_type": "markdown",
   "metadata": {},
   "source": [
    "### Regresión"
   ]
  },
  {
   "cell_type": "code",
   "execution_count": 65,
   "metadata": {},
   "outputs": [
    {
     "data": {
      "text/plain": [
       "'from sklearn.model_selection import train_test_split\\nfrom sklearn.ensemble import RandomForestRegressor\\nfrom sklearn.metrics import mean_absolute_error, mean_squared_error, r2_score\\n\\n# Obtener productos únicos\\nproductos_unicos = db_model[\"Descripción del producto\"].unique()\\n\\n# Dividir productos en train/test (por producto)\\nfrom sklearn.model_selection import train_test_split\\ntrain_prod, test_prod = train_test_split(productos_unicos, test_size=0.3, random_state=42)\\n\\n# Separar el DataFrame\\ntrain_df = db_model[db_model[\"Descripción del producto\"].isin(train_prod)]\\ntest_df = db_model[db_model[\"Descripción del producto\"].isin(test_prod)]\\n\\n# Separar X e y\\nX_train = train_df[features]\\ny_train = train_df[\"delta precio target\"]\\nX_test = test_df[features]\\ny_test = test_df[\"delta precio target\"]\\n\\n# Modelo\\nmodel = RandomForestRegressor(random_state=42)\\nmodel.fit(X_train, y_train)\\n\\n# Predicción\\ny_pred = model.predict(X_test)\\n'"
      ]
     },
     "execution_count": 65,
     "metadata": {},
     "output_type": "execute_result"
    }
   ],
   "source": [
    "\"\"\"from sklearn.model_selection import train_test_split\n",
    "from sklearn.ensemble import RandomForestRegressor\n",
    "from sklearn.metrics import mean_absolute_error, mean_squared_error, r2_score\n",
    "\n",
    "# Obtener productos únicos\n",
    "productos_unicos = db_model[\"Descripción del producto\"].unique()\n",
    "\n",
    "# Dividir productos en train/test (por producto)\n",
    "from sklearn.model_selection import train_test_split\n",
    "train_prod, test_prod = train_test_split(productos_unicos, test_size=0.3, random_state=42)\n",
    "\n",
    "# Separar el DataFrame\n",
    "train_df = db_model[db_model[\"Descripción del producto\"].isin(train_prod)]\n",
    "test_df = db_model[db_model[\"Descripción del producto\"].isin(test_prod)]\n",
    "\n",
    "# Separar X e y\n",
    "X_train = train_df[features]\n",
    "y_train = train_df[\"delta precio target\"]\n",
    "X_test = test_df[features]\n",
    "y_test = test_df[\"delta precio target\"]\n",
    "\n",
    "# Modelo\n",
    "model = RandomForestRegressor(random_state=42)\n",
    "model.fit(X_train, y_train)\n",
    "\n",
    "# Predicción\n",
    "y_pred = model.predict(X_test)\n",
    "\"\"\""
   ]
  },
  {
   "cell_type": "code",
   "execution_count": 66,
   "metadata": {},
   "outputs": [
    {
     "data": {
      "text/plain": [
       "'mae = mean_absolute_error(y_test, y_pred)\\nmse = mean_squared_error(y_test, y_pred)\\nrmse = mse ** 0.5\\nr2 = r2_score(y_test, y_pred)\\n\\nprint(\"MAE:\", mae)\\nprint(\"RMSE:\", rmse)\\nprint(\"R2:\", r2)\\n'"
      ]
     },
     "execution_count": 66,
     "metadata": {},
     "output_type": "execute_result"
    }
   ],
   "source": [
    "\"\"\"mae = mean_absolute_error(y_test, y_pred)\n",
    "mse = mean_squared_error(y_test, y_pred)\n",
    "rmse = mse ** 0.5\n",
    "r2 = r2_score(y_test, y_pred)\n",
    "\n",
    "print(\"MAE:\", mae)\n",
    "print(\"RMSE:\", rmse)\n",
    "print(\"R2:\", r2)\n",
    "\"\"\""
   ]
  },
  {
   "cell_type": "markdown",
   "metadata": {},
   "source": [
    "### Random Forest"
   ]
  },
  {
   "cell_type": "code",
   "execution_count": 67,
   "metadata": {},
   "outputs": [
    {
     "data": {
      "text/plain": [
       "'print(db_prac[\"Cambio de precio\"].value_counts())\\n\\n\\nprint(y.value_counts())\\n\\n'"
      ]
     },
     "execution_count": 67,
     "metadata": {},
     "output_type": "execute_result"
    }
   ],
   "source": [
    "\"\"\"print(db_prac[\"Cambio de precio\"].value_counts())\n",
    "\n",
    "\n",
    "print(y.value_counts())\n",
    "\n",
    "\"\"\""
   ]
  },
  {
   "cell_type": "code",
   "execution_count": 68,
   "metadata": {},
   "outputs": [
    {
     "data": {
      "text/plain": [
       "'# Entrenamos el modelo\\nfrom sklearn.model_selection import train_test_split\\nfrom sklearn.ensemble import RandomForestClassifier\\nfrom sklearn.metrics import classification_report, confusion_matrix\\n\\n# Dividimos en train y test\\n#X_train, X_test, y_train, y_test = train_test_split(X, y, test_size=0.3, random_state=42)\\n\\n# Creamos el modelo\\nmodel = RandomForestClassifier(random_state=42)\\nmodel.fit(X_train, y_train)\\n\\n# Predecimos\\ny_pred = model.predict(X_test)\\n# Reporte de clasificación\\nprint(classification_report(y_test, y_pred))\\n\\n# Precision\\nprint(\"Precision: \", model.score(X_test, y_test))'"
      ]
     },
     "execution_count": 68,
     "metadata": {},
     "output_type": "execute_result"
    }
   ],
   "source": [
    "\"\"\"# Entrenamos el modelo\n",
    "from sklearn.model_selection import train_test_split\n",
    "from sklearn.ensemble import RandomForestClassifier\n",
    "from sklearn.metrics import classification_report, confusion_matrix\n",
    "\n",
    "# Dividimos en train y test\n",
    "#X_train, X_test, y_train, y_test = train_test_split(X, y, test_size=0.3, random_state=42)\n",
    "\n",
    "# Creamos el modelo\n",
    "model = RandomForestClassifier(random_state=42)\n",
    "model.fit(X_train, y_train)\n",
    "\n",
    "# Predecimos\n",
    "y_pred = model.predict(X_test)\n",
    "# Reporte de clasificación\n",
    "print(classification_report(y_test, y_pred))\n",
    "\n",
    "# Precision\n",
    "print(\"Precision: \", model.score(X_test, y_test))\"\"\""
   ]
  },
  {
   "cell_type": "markdown",
   "metadata": {},
   "source": [
    "## Combinación de la dataset\n",
    "Lo que vamos a hacer es primer generar un group by de samsung_customer_reviews"
   ]
  },
  {
   "cell_type": "code",
   "execution_count": 69,
   "metadata": {},
   "outputs": [
    {
     "data": {
      "text/plain": [
       "'# Group by por rating\\nrating_product = db_sams.groupby(\\'Product Name\\')[\\'Rating\\'].mean().reset_index()\\nrating_product.columns = [\"Product Name\", \"Rating\"]\\n\\nlen(rating_product)'"
      ]
     },
     "execution_count": 69,
     "metadata": {},
     "output_type": "execute_result"
    }
   ],
   "source": [
    "\"\"\"# Group by por rating\n",
    "rating_product = db_sams.groupby('Product Name')['Rating'].mean().reset_index()\n",
    "rating_product.columns = [\"Product Name\", \"Rating\"]\n",
    "\n",
    "len(rating_product)\"\"\""
   ]
  },
  {
   "cell_type": "markdown",
   "metadata": {},
   "source": [
    "## Prueba 2 Data set"
   ]
  },
  {
   "cell_type": "code",
   "execution_count": 70,
   "metadata": {},
   "outputs": [
    {
     "data": {
      "text/html": [
       "<div>\n",
       "<style scoped>\n",
       "    .dataframe tbody tr th:only-of-type {\n",
       "        vertical-align: middle;\n",
       "    }\n",
       "\n",
       "    .dataframe tbody tr th {\n",
       "        vertical-align: top;\n",
       "    }\n",
       "\n",
       "    .dataframe thead th {\n",
       "        text-align: right;\n",
       "    }\n",
       "</style>\n",
       "<table border=\"1\" class=\"dataframe\">\n",
       "  <thead>\n",
       "    <tr style=\"text-align: right;\">\n",
       "      <th></th>\n",
       "      <th>Descripción del producto</th>\n",
       "      <th>Precio con descuento</th>\n",
       "      <th>Precio sin descuento</th>\n",
       "      <th>Descuento</th>\n",
       "      <th>Categoría</th>\n",
       "      <th>Subcategoría</th>\n",
       "      <th>Imagen</th>\n",
       "      <th>Atributos</th>\n",
       "      <th>Fecha y hora de extracción</th>\n",
       "      <th>porc descuento</th>\n",
       "      <th>Categoría encoded</th>\n",
       "      <th>Subcategoría encoded</th>\n",
       "    </tr>\n",
       "  </thead>\n",
       "  <tbody>\n",
       "    <tr>\n",
       "      <th>0</th>\n",
       "      <td>Galaxy Tab S10 Ultra Wi-Fi 256GB</td>\n",
       "      <td>1300.0</td>\n",
       "      <td>NaN</td>\n",
       "      <td>NaN</td>\n",
       "      <td>Mobile</td>\n",
       "      <td>Tablets</td>\n",
       "      <td>https://shop.samsung.com/latin/pub/media/catal...</td>\n",
       "      <td>['Obtén una visión cristalina y cómoda con Dyn...</td>\n",
       "      <td>2025-03-30 16:23:50</td>\n",
       "      <td>NaN</td>\n",
       "      <td>0</td>\n",
       "      <td>4</td>\n",
       "    </tr>\n",
       "    <tr>\n",
       "      <th>1</th>\n",
       "      <td>Galaxy Tab S10+ Wi-Fi 256GB</td>\n",
       "      <td>1099.0</td>\n",
       "      <td>NaN</td>\n",
       "      <td>NaN</td>\n",
       "      <td>Mobile</td>\n",
       "      <td>Tablets</td>\n",
       "      <td>https://shop.samsung.com/latin/pub/media/catal...</td>\n",
       "      <td>['Obtén una visión cristalina y cómoda con Dyn...</td>\n",
       "      <td>2025-03-30 16:24:32</td>\n",
       "      <td>NaN</td>\n",
       "      <td>0</td>\n",
       "      <td>4</td>\n",
       "    </tr>\n",
       "    <tr>\n",
       "      <th>2</th>\n",
       "      <td>Galaxy Tab A9 Wi-Fi 64GB</td>\n",
       "      <td>99.0</td>\n",
       "      <td>NaN</td>\n",
       "      <td>NaN</td>\n",
       "      <td>Mobile</td>\n",
       "      <td>Tablets</td>\n",
       "      <td>https://shop.samsung.com/latin/pub/media/catal...</td>\n",
       "      <td>['Clásica y contemporánea.', 'Eleva tu capacid...</td>\n",
       "      <td>2025-03-30 16:25:15</td>\n",
       "      <td>NaN</td>\n",
       "      <td>0</td>\n",
       "      <td>4</td>\n",
       "    </tr>\n",
       "    <tr>\n",
       "      <th>3</th>\n",
       "      <td>Galaxy Watch Ultra 47mm</td>\n",
       "      <td>429.0</td>\n",
       "      <td>649.0</td>\n",
       "      <td>0.34</td>\n",
       "      <td>Mobile</td>\n",
       "      <td>Watches</td>\n",
       "      <td>https://shop.samsung.com/latin/pub/media/catal...</td>\n",
       "      <td>['Conocimientos de salud gracias a la tecnolog...</td>\n",
       "      <td>2025-03-30 16:25:48</td>\n",
       "      <td>33.898305</td>\n",
       "      <td>0</td>\n",
       "      <td>5</td>\n",
       "    </tr>\n",
       "    <tr>\n",
       "      <th>4</th>\n",
       "      <td>Galaxy Watch7 44mm</td>\n",
       "      <td>269.0</td>\n",
       "      <td>329.0</td>\n",
       "      <td>0.18</td>\n",
       "      <td>Mobile</td>\n",
       "      <td>Watches</td>\n",
       "      <td>https://shop.samsung.com/latin/pub/media/catal...</td>\n",
       "      <td>['Información de salud de Galaxy AI.', 'Entren...</td>\n",
       "      <td>2025-03-30 16:26:13</td>\n",
       "      <td>18.237082</td>\n",
       "      <td>0</td>\n",
       "      <td>5</td>\n",
       "    </tr>\n",
       "    <tr>\n",
       "      <th>...</th>\n",
       "      <td>...</td>\n",
       "      <td>...</td>\n",
       "      <td>...</td>\n",
       "      <td>...</td>\n",
       "      <td>...</td>\n",
       "      <td>...</td>\n",
       "      <td>...</td>\n",
       "      <td>...</td>\n",
       "      <td>...</td>\n",
       "      <td>...</td>\n",
       "      <td>...</td>\n",
       "      <td>...</td>\n",
       "    </tr>\n",
       "    <tr>\n",
       "      <th>448</th>\n",
       "      <td>Galaxy A25 5G 128GB</td>\n",
       "      <td>249.0</td>\n",
       "      <td>NaN</td>\n",
       "      <td>NaN</td>\n",
       "      <td>Mobile</td>\n",
       "      <td>Smpartphones</td>\n",
       "      <td>https://shop.samsung.com/latin/pub/media/catal...</td>\n",
       "      <td>['Super AMOLED 6.5\" FHD+.', 'Camára 50MP OISs....</td>\n",
       "      <td>2025-04-06 13:28:37</td>\n",
       "      <td>NaN</td>\n",
       "      <td>0</td>\n",
       "      <td>3</td>\n",
       "    </tr>\n",
       "    <tr>\n",
       "      <th>449</th>\n",
       "      <td>Galaxy A15 4GB 128GB</td>\n",
       "      <td>159.0</td>\n",
       "      <td>NaN</td>\n",
       "      <td>NaN</td>\n",
       "      <td>Mobile</td>\n",
       "      <td>Smpartphones</td>\n",
       "      <td>https://shop.samsung.com/latin/pub/media/catal...</td>\n",
       "      <td>['Pantalla Super AMOLED FHD+ de 6,5\".', 'Cámar...</td>\n",
       "      <td>2025-04-06 13:29:23</td>\n",
       "      <td>NaN</td>\n",
       "      <td>0</td>\n",
       "      <td>3</td>\n",
       "    </tr>\n",
       "    <tr>\n",
       "      <th>450</th>\n",
       "      <td>Galaxy A06 64GB</td>\n",
       "      <td>95.0</td>\n",
       "      <td>NaN</td>\n",
       "      <td>NaN</td>\n",
       "      <td>Mobile</td>\n",
       "      <td>Smpartphones</td>\n",
       "      <td>https://shop.samsung.com/latin/pub/media/catal...</td>\n",
       "      <td>['Pantalla 6.7\"', 'Cámara principal de 50 MP.'...</td>\n",
       "      <td>2025-04-06 13:30:09</td>\n",
       "      <td>NaN</td>\n",
       "      <td>0</td>\n",
       "      <td>3</td>\n",
       "    </tr>\n",
       "    <tr>\n",
       "      <th>451</th>\n",
       "      <td>Galaxy A05 64GB</td>\n",
       "      <td>90.0</td>\n",
       "      <td>NaN</td>\n",
       "      <td>NaN</td>\n",
       "      <td>Mobile</td>\n",
       "      <td>Smpartphones</td>\n",
       "      <td>https://shop.samsung.com/latin/pub/media/catal...</td>\n",
       "      <td>['Pantalla HD+ de 6,7\"', 'Cámara de 50MP', 'Pr...</td>\n",
       "      <td>2025-04-06 13:30:53</td>\n",
       "      <td>NaN</td>\n",
       "      <td>0</td>\n",
       "      <td>3</td>\n",
       "    </tr>\n",
       "    <tr>\n",
       "      <th>452</th>\n",
       "      <td>Galaxy A36 5G 8GB 256GB</td>\n",
       "      <td>268.0</td>\n",
       "      <td>335.0</td>\n",
       "      <td>0.20</td>\n",
       "      <td>Tecnología AI</td>\n",
       "      <td>Mobiles</td>\n",
       "      <td>https://shop.samsung.com/latin/pub/media/catal...</td>\n",
       "      <td>['Sé colorido, sé diferente, sé tú.', 'Una pan...</td>\n",
       "      <td>2025-04-06 13:42:20</td>\n",
       "      <td>20.000000</td>\n",
       "      <td>1</td>\n",
       "      <td>2</td>\n",
       "    </tr>\n",
       "  </tbody>\n",
       "</table>\n",
       "<p>453 rows × 12 columns</p>\n",
       "</div>"
      ],
      "text/plain": [
       "             Descripción del producto  Precio con descuento  \\\n",
       "0    Galaxy Tab S10 Ultra Wi-Fi 256GB                1300.0   \n",
       "1         Galaxy Tab S10+ Wi-Fi 256GB                1099.0   \n",
       "2            Galaxy Tab A9 Wi-Fi 64GB                  99.0   \n",
       "3             Galaxy Watch Ultra 47mm                 429.0   \n",
       "4                  Galaxy Watch7 44mm                 269.0   \n",
       "..                                ...                   ...   \n",
       "448               Galaxy A25 5G 128GB                 249.0   \n",
       "449              Galaxy A15 4GB 128GB                 159.0   \n",
       "450                   Galaxy A06 64GB                  95.0   \n",
       "451                   Galaxy A05 64GB                  90.0   \n",
       "452           Galaxy A36 5G 8GB 256GB                 268.0   \n",
       "\n",
       "     Precio sin descuento  Descuento      Categoría  Subcategoría  \\\n",
       "0                     NaN        NaN         Mobile       Tablets   \n",
       "1                     NaN        NaN         Mobile       Tablets   \n",
       "2                     NaN        NaN         Mobile       Tablets   \n",
       "3                   649.0       0.34         Mobile       Watches   \n",
       "4                   329.0       0.18         Mobile       Watches   \n",
       "..                    ...        ...            ...           ...   \n",
       "448                   NaN        NaN         Mobile  Smpartphones   \n",
       "449                   NaN        NaN         Mobile  Smpartphones   \n",
       "450                   NaN        NaN         Mobile  Smpartphones   \n",
       "451                   NaN        NaN         Mobile  Smpartphones   \n",
       "452                 335.0       0.20  Tecnología AI       Mobiles   \n",
       "\n",
       "                                                Imagen  \\\n",
       "0    https://shop.samsung.com/latin/pub/media/catal...   \n",
       "1    https://shop.samsung.com/latin/pub/media/catal...   \n",
       "2    https://shop.samsung.com/latin/pub/media/catal...   \n",
       "3    https://shop.samsung.com/latin/pub/media/catal...   \n",
       "4    https://shop.samsung.com/latin/pub/media/catal...   \n",
       "..                                                 ...   \n",
       "448  https://shop.samsung.com/latin/pub/media/catal...   \n",
       "449  https://shop.samsung.com/latin/pub/media/catal...   \n",
       "450  https://shop.samsung.com/latin/pub/media/catal...   \n",
       "451  https://shop.samsung.com/latin/pub/media/catal...   \n",
       "452  https://shop.samsung.com/latin/pub/media/catal...   \n",
       "\n",
       "                                             Atributos  \\\n",
       "0    ['Obtén una visión cristalina y cómoda con Dyn...   \n",
       "1    ['Obtén una visión cristalina y cómoda con Dyn...   \n",
       "2    ['Clásica y contemporánea.', 'Eleva tu capacid...   \n",
       "3    ['Conocimientos de salud gracias a la tecnolog...   \n",
       "4    ['Información de salud de Galaxy AI.', 'Entren...   \n",
       "..                                                 ...   \n",
       "448  ['Super AMOLED 6.5\" FHD+.', 'Camára 50MP OISs....   \n",
       "449  ['Pantalla Super AMOLED FHD+ de 6,5\".', 'Cámar...   \n",
       "450  ['Pantalla 6.7\"', 'Cámara principal de 50 MP.'...   \n",
       "451  ['Pantalla HD+ de 6,7\"', 'Cámara de 50MP', 'Pr...   \n",
       "452  ['Sé colorido, sé diferente, sé tú.', 'Una pan...   \n",
       "\n",
       "    Fecha y hora de extracción  porc descuento  Categoría encoded  \\\n",
       "0          2025-03-30 16:23:50             NaN                  0   \n",
       "1          2025-03-30 16:24:32             NaN                  0   \n",
       "2          2025-03-30 16:25:15             NaN                  0   \n",
       "3          2025-03-30 16:25:48       33.898305                  0   \n",
       "4          2025-03-30 16:26:13       18.237082                  0   \n",
       "..                         ...             ...                ...   \n",
       "448        2025-04-06 13:28:37             NaN                  0   \n",
       "449        2025-04-06 13:29:23             NaN                  0   \n",
       "450        2025-04-06 13:30:09             NaN                  0   \n",
       "451        2025-04-06 13:30:53             NaN                  0   \n",
       "452        2025-04-06 13:42:20       20.000000                  1   \n",
       "\n",
       "     Subcategoría encoded  \n",
       "0                       4  \n",
       "1                       4  \n",
       "2                       4  \n",
       "3                       5  \n",
       "4                       5  \n",
       "..                    ...  \n",
       "448                     3  \n",
       "449                     3  \n",
       "450                     3  \n",
       "451                     3  \n",
       "452                     2  \n",
       "\n",
       "[453 rows x 12 columns]"
      ]
     },
     "execution_count": 70,
     "metadata": {},
     "output_type": "execute_result"
    }
   ],
   "source": [
    "# Traemos nuestra base de datos original\n",
    "db_prac = pd.read_csv(\"dataset.csv\")\n",
    "db_prac\n",
    "\n",
    "# Verificamos que en la Descripción del producto no contenganla palabra \"Samsung\" o \"samsung\"\n",
    "db_prac['Descripción del producto'].str.contains('Samsung', case=False).sum()\n",
    "\n",
    "# Eliminamos \"USD$\" de las columnas Precio con descuento y Precio sin descuento\n",
    "# Reemplazamos las comas por puntos y eliminamos espacios adicionales\n",
    "db_prac['Precio con descuento'] = db_prac['Precio con descuento'].str.replace(',', '').str.strip()\n",
    "db_prac['Precio sin descuento'] = db_prac['Precio sin descuento'].str.replace(',', '').str.strip()\n",
    "\n",
    "# Eliminamos el prefijo \"US$ \" de las columnas\n",
    "db_prac['Precio con descuento'] = db_prac['Precio con descuento'].str.replace('US$ ', '', regex=False)\n",
    "db_prac['Precio sin descuento'] = db_prac['Precio sin descuento'].str.replace('US$ ', '', regex=False)\n",
    "# Convertimos las columnas Precio con descuento y Precio sin descuento a float\n",
    "db_prac['Precio con descuento'] = db_prac['Precio con descuento'].astype(float)\n",
    "db_prac['Precio sin descuento'] = db_prac['Precio sin descuento'].astype(float)\n",
    "\n",
    "#Eliminamos el signo de porcentaje de la columna Descuento y pasamos a float y dividimos entre 100\n",
    "# Eliminamos espacios adicionales y caracteres no numéricos en la columna Descuento\n",
    "#Eliminamos el signo \"-\" de la columna Descuento\n",
    "db_prac['Descuento'] = db_prac['Descuento'].str.replace('-', '', regex=False)\n",
    "db_prac['Descuento'] = db_prac['Descuento'].str.replace(r'[^0-9.-]', '', regex=True).str.strip()\n",
    "db_prac['Descuento'] = db_prac['Descuento'].astype(float)\n",
    "# Dividimos entre 100\n",
    "db_prac['Descuento'] = db_prac['Descuento'] / 100\n",
    "# Descuento actual en %\n",
    "db_prac[\"porc descuento\"] = ((db_prac[\"Precio sin descuento\"] - db_prac[\"Precio con descuento\"]) / db_prac[\"Precio sin descuento\"]) * 100\n",
    "\n",
    "# Codificación de las categorías y subcategorías\n",
    "db_prac[\"Categoría encoded\"] = db_prac[\"Categoría\"].astype(\"category\").cat.codes\n",
    "db_prac[\"Subcategoría encoded\"] = db_prac[\"Subcategoría\"].astype(\"category\").cat.codes\n",
    "\n",
    "db_prac"
   ]
  },
  {
   "cell_type": "code",
   "execution_count": 71,
   "metadata": {},
   "outputs": [
    {
     "data": {
      "text/html": [
       "<div>\n",
       "<style scoped>\n",
       "    .dataframe tbody tr th:only-of-type {\n",
       "        vertical-align: middle;\n",
       "    }\n",
       "\n",
       "    .dataframe tbody tr th {\n",
       "        vertical-align: top;\n",
       "    }\n",
       "\n",
       "    .dataframe thead th {\n",
       "        text-align: right;\n",
       "    }\n",
       "</style>\n",
       "<table border=\"1\" class=\"dataframe\">\n",
       "  <thead>\n",
       "    <tr style=\"text-align: right;\">\n",
       "      <th></th>\n",
       "      <th>Descripción del producto</th>\n",
       "      <th>Precio con descuento</th>\n",
       "      <th>Precio sin descuento</th>\n",
       "      <th>Descuento</th>\n",
       "      <th>Categoría</th>\n",
       "      <th>Subcategoría</th>\n",
       "      <th>Imagen</th>\n",
       "      <th>Atributos</th>\n",
       "      <th>Fecha y hora de extracción</th>\n",
       "      <th>porc descuento</th>\n",
       "      <th>Categoría encoded</th>\n",
       "      <th>Subcategoría encoded</th>\n",
       "      <th>Modelo_base</th>\n",
       "      <th>Almacenamiento_GB</th>\n",
       "      <th>Tiene_5G</th>\n",
       "    </tr>\n",
       "  </thead>\n",
       "  <tbody>\n",
       "    <tr>\n",
       "      <th>0</th>\n",
       "      <td>Galaxy Tab S10 Ultra Wi-Fi 256GB</td>\n",
       "      <td>1300.0</td>\n",
       "      <td>NaN</td>\n",
       "      <td>NaN</td>\n",
       "      <td>Mobile</td>\n",
       "      <td>Tablets</td>\n",
       "      <td>https://shop.samsung.com/latin/pub/media/catal...</td>\n",
       "      <td>['Obtén una visión cristalina y cómoda con Dyn...</td>\n",
       "      <td>2025-03-30 16:23:50</td>\n",
       "      <td>NaN</td>\n",
       "      <td>0</td>\n",
       "      <td>4</td>\n",
       "      <td>Galaxy Tab S10 Ultra</td>\n",
       "      <td>256.0</td>\n",
       "      <td>0</td>\n",
       "    </tr>\n",
       "    <tr>\n",
       "      <th>1</th>\n",
       "      <td>Galaxy Tab S10+ Wi-Fi 256GB</td>\n",
       "      <td>1099.0</td>\n",
       "      <td>NaN</td>\n",
       "      <td>NaN</td>\n",
       "      <td>Mobile</td>\n",
       "      <td>Tablets</td>\n",
       "      <td>https://shop.samsung.com/latin/pub/media/catal...</td>\n",
       "      <td>['Obtén una visión cristalina y cómoda con Dyn...</td>\n",
       "      <td>2025-03-30 16:24:32</td>\n",
       "      <td>NaN</td>\n",
       "      <td>0</td>\n",
       "      <td>4</td>\n",
       "      <td>Galaxy Tab S10</td>\n",
       "      <td>256.0</td>\n",
       "      <td>0</td>\n",
       "    </tr>\n",
       "    <tr>\n",
       "      <th>2</th>\n",
       "      <td>Galaxy Tab A9 Wi-Fi 64GB</td>\n",
       "      <td>99.0</td>\n",
       "      <td>NaN</td>\n",
       "      <td>NaN</td>\n",
       "      <td>Mobile</td>\n",
       "      <td>Tablets</td>\n",
       "      <td>https://shop.samsung.com/latin/pub/media/catal...</td>\n",
       "      <td>['Clásica y contemporánea.', 'Eleva tu capacid...</td>\n",
       "      <td>2025-03-30 16:25:15</td>\n",
       "      <td>NaN</td>\n",
       "      <td>0</td>\n",
       "      <td>4</td>\n",
       "      <td>Galaxy Tab A9</td>\n",
       "      <td>64.0</td>\n",
       "      <td>0</td>\n",
       "    </tr>\n",
       "    <tr>\n",
       "      <th>3</th>\n",
       "      <td>Galaxy Watch Ultra 47mm</td>\n",
       "      <td>429.0</td>\n",
       "      <td>649.0</td>\n",
       "      <td>0.34</td>\n",
       "      <td>Mobile</td>\n",
       "      <td>Watches</td>\n",
       "      <td>https://shop.samsung.com/latin/pub/media/catal...</td>\n",
       "      <td>['Conocimientos de salud gracias a la tecnolog...</td>\n",
       "      <td>2025-03-30 16:25:48</td>\n",
       "      <td>33.898305</td>\n",
       "      <td>0</td>\n",
       "      <td>5</td>\n",
       "      <td>Galaxy Watch Ultra</td>\n",
       "      <td>NaN</td>\n",
       "      <td>0</td>\n",
       "    </tr>\n",
       "    <tr>\n",
       "      <th>4</th>\n",
       "      <td>Galaxy Watch7 44mm</td>\n",
       "      <td>269.0</td>\n",
       "      <td>329.0</td>\n",
       "      <td>0.18</td>\n",
       "      <td>Mobile</td>\n",
       "      <td>Watches</td>\n",
       "      <td>https://shop.samsung.com/latin/pub/media/catal...</td>\n",
       "      <td>['Información de salud de Galaxy AI.', 'Entren...</td>\n",
       "      <td>2025-03-30 16:26:13</td>\n",
       "      <td>18.237082</td>\n",
       "      <td>0</td>\n",
       "      <td>5</td>\n",
       "      <td>Galaxy Watch7</td>\n",
       "      <td>NaN</td>\n",
       "      <td>0</td>\n",
       "    </tr>\n",
       "    <tr>\n",
       "      <th>...</th>\n",
       "      <td>...</td>\n",
       "      <td>...</td>\n",
       "      <td>...</td>\n",
       "      <td>...</td>\n",
       "      <td>...</td>\n",
       "      <td>...</td>\n",
       "      <td>...</td>\n",
       "      <td>...</td>\n",
       "      <td>...</td>\n",
       "      <td>...</td>\n",
       "      <td>...</td>\n",
       "      <td>...</td>\n",
       "      <td>...</td>\n",
       "      <td>...</td>\n",
       "      <td>...</td>\n",
       "    </tr>\n",
       "    <tr>\n",
       "      <th>448</th>\n",
       "      <td>Galaxy A25 5G 128GB</td>\n",
       "      <td>249.0</td>\n",
       "      <td>NaN</td>\n",
       "      <td>NaN</td>\n",
       "      <td>Mobile</td>\n",
       "      <td>Smpartphones</td>\n",
       "      <td>https://shop.samsung.com/latin/pub/media/catal...</td>\n",
       "      <td>['Super AMOLED 6.5\" FHD+.', 'Camára 50MP OISs....</td>\n",
       "      <td>2025-04-06 13:28:37</td>\n",
       "      <td>NaN</td>\n",
       "      <td>0</td>\n",
       "      <td>3</td>\n",
       "      <td>Galaxy A25</td>\n",
       "      <td>128.0</td>\n",
       "      <td>1</td>\n",
       "    </tr>\n",
       "    <tr>\n",
       "      <th>449</th>\n",
       "      <td>Galaxy A15 4GB 128GB</td>\n",
       "      <td>159.0</td>\n",
       "      <td>NaN</td>\n",
       "      <td>NaN</td>\n",
       "      <td>Mobile</td>\n",
       "      <td>Smpartphones</td>\n",
       "      <td>https://shop.samsung.com/latin/pub/media/catal...</td>\n",
       "      <td>['Pantalla Super AMOLED FHD+ de 6,5\".', 'Cámar...</td>\n",
       "      <td>2025-04-06 13:29:23</td>\n",
       "      <td>NaN</td>\n",
       "      <td>0</td>\n",
       "      <td>3</td>\n",
       "      <td>Galaxy A15</td>\n",
       "      <td>128.0</td>\n",
       "      <td>0</td>\n",
       "    </tr>\n",
       "    <tr>\n",
       "      <th>450</th>\n",
       "      <td>Galaxy A06 64GB</td>\n",
       "      <td>95.0</td>\n",
       "      <td>NaN</td>\n",
       "      <td>NaN</td>\n",
       "      <td>Mobile</td>\n",
       "      <td>Smpartphones</td>\n",
       "      <td>https://shop.samsung.com/latin/pub/media/catal...</td>\n",
       "      <td>['Pantalla 6.7\"', 'Cámara principal de 50 MP.'...</td>\n",
       "      <td>2025-04-06 13:30:09</td>\n",
       "      <td>NaN</td>\n",
       "      <td>0</td>\n",
       "      <td>3</td>\n",
       "      <td>Galaxy A06</td>\n",
       "      <td>64.0</td>\n",
       "      <td>0</td>\n",
       "    </tr>\n",
       "    <tr>\n",
       "      <th>451</th>\n",
       "      <td>Galaxy A05 64GB</td>\n",
       "      <td>90.0</td>\n",
       "      <td>NaN</td>\n",
       "      <td>NaN</td>\n",
       "      <td>Mobile</td>\n",
       "      <td>Smpartphones</td>\n",
       "      <td>https://shop.samsung.com/latin/pub/media/catal...</td>\n",
       "      <td>['Pantalla HD+ de 6,7\"', 'Cámara de 50MP', 'Pr...</td>\n",
       "      <td>2025-04-06 13:30:53</td>\n",
       "      <td>NaN</td>\n",
       "      <td>0</td>\n",
       "      <td>3</td>\n",
       "      <td>Galaxy A05</td>\n",
       "      <td>64.0</td>\n",
       "      <td>0</td>\n",
       "    </tr>\n",
       "    <tr>\n",
       "      <th>452</th>\n",
       "      <td>Galaxy A36 5G 8GB 256GB</td>\n",
       "      <td>268.0</td>\n",
       "      <td>335.0</td>\n",
       "      <td>0.20</td>\n",
       "      <td>Tecnología AI</td>\n",
       "      <td>Mobiles</td>\n",
       "      <td>https://shop.samsung.com/latin/pub/media/catal...</td>\n",
       "      <td>['Sé colorido, sé diferente, sé tú.', 'Una pan...</td>\n",
       "      <td>2025-04-06 13:42:20</td>\n",
       "      <td>20.000000</td>\n",
       "      <td>1</td>\n",
       "      <td>2</td>\n",
       "      <td>Galaxy A36</td>\n",
       "      <td>256.0</td>\n",
       "      <td>1</td>\n",
       "    </tr>\n",
       "  </tbody>\n",
       "</table>\n",
       "<p>453 rows × 15 columns</p>\n",
       "</div>"
      ],
      "text/plain": [
       "             Descripción del producto  Precio con descuento  \\\n",
       "0    Galaxy Tab S10 Ultra Wi-Fi 256GB                1300.0   \n",
       "1         Galaxy Tab S10+ Wi-Fi 256GB                1099.0   \n",
       "2            Galaxy Tab A9 Wi-Fi 64GB                  99.0   \n",
       "3             Galaxy Watch Ultra 47mm                 429.0   \n",
       "4                  Galaxy Watch7 44mm                 269.0   \n",
       "..                                ...                   ...   \n",
       "448               Galaxy A25 5G 128GB                 249.0   \n",
       "449              Galaxy A15 4GB 128GB                 159.0   \n",
       "450                   Galaxy A06 64GB                  95.0   \n",
       "451                   Galaxy A05 64GB                  90.0   \n",
       "452           Galaxy A36 5G 8GB 256GB                 268.0   \n",
       "\n",
       "     Precio sin descuento  Descuento      Categoría  Subcategoría  \\\n",
       "0                     NaN        NaN         Mobile       Tablets   \n",
       "1                     NaN        NaN         Mobile       Tablets   \n",
       "2                     NaN        NaN         Mobile       Tablets   \n",
       "3                   649.0       0.34         Mobile       Watches   \n",
       "4                   329.0       0.18         Mobile       Watches   \n",
       "..                    ...        ...            ...           ...   \n",
       "448                   NaN        NaN         Mobile  Smpartphones   \n",
       "449                   NaN        NaN         Mobile  Smpartphones   \n",
       "450                   NaN        NaN         Mobile  Smpartphones   \n",
       "451                   NaN        NaN         Mobile  Smpartphones   \n",
       "452                 335.0       0.20  Tecnología AI       Mobiles   \n",
       "\n",
       "                                                Imagen  \\\n",
       "0    https://shop.samsung.com/latin/pub/media/catal...   \n",
       "1    https://shop.samsung.com/latin/pub/media/catal...   \n",
       "2    https://shop.samsung.com/latin/pub/media/catal...   \n",
       "3    https://shop.samsung.com/latin/pub/media/catal...   \n",
       "4    https://shop.samsung.com/latin/pub/media/catal...   \n",
       "..                                                 ...   \n",
       "448  https://shop.samsung.com/latin/pub/media/catal...   \n",
       "449  https://shop.samsung.com/latin/pub/media/catal...   \n",
       "450  https://shop.samsung.com/latin/pub/media/catal...   \n",
       "451  https://shop.samsung.com/latin/pub/media/catal...   \n",
       "452  https://shop.samsung.com/latin/pub/media/catal...   \n",
       "\n",
       "                                             Atributos  \\\n",
       "0    ['Obtén una visión cristalina y cómoda con Dyn...   \n",
       "1    ['Obtén una visión cristalina y cómoda con Dyn...   \n",
       "2    ['Clásica y contemporánea.', 'Eleva tu capacid...   \n",
       "3    ['Conocimientos de salud gracias a la tecnolog...   \n",
       "4    ['Información de salud de Galaxy AI.', 'Entren...   \n",
       "..                                                 ...   \n",
       "448  ['Super AMOLED 6.5\" FHD+.', 'Camára 50MP OISs....   \n",
       "449  ['Pantalla Super AMOLED FHD+ de 6,5\".', 'Cámar...   \n",
       "450  ['Pantalla 6.7\"', 'Cámara principal de 50 MP.'...   \n",
       "451  ['Pantalla HD+ de 6,7\"', 'Cámara de 50MP', 'Pr...   \n",
       "452  ['Sé colorido, sé diferente, sé tú.', 'Una pan...   \n",
       "\n",
       "    Fecha y hora de extracción  porc descuento  Categoría encoded  \\\n",
       "0          2025-03-30 16:23:50             NaN                  0   \n",
       "1          2025-03-30 16:24:32             NaN                  0   \n",
       "2          2025-03-30 16:25:15             NaN                  0   \n",
       "3          2025-03-30 16:25:48       33.898305                  0   \n",
       "4          2025-03-30 16:26:13       18.237082                  0   \n",
       "..                         ...             ...                ...   \n",
       "448        2025-04-06 13:28:37             NaN                  0   \n",
       "449        2025-04-06 13:29:23             NaN                  0   \n",
       "450        2025-04-06 13:30:09             NaN                  0   \n",
       "451        2025-04-06 13:30:53             NaN                  0   \n",
       "452        2025-04-06 13:42:20       20.000000                  1   \n",
       "\n",
       "     Subcategoría encoded           Modelo_base  Almacenamiento_GB  Tiene_5G  \n",
       "0                       4  Galaxy Tab S10 Ultra              256.0         0  \n",
       "1                       4        Galaxy Tab S10              256.0         0  \n",
       "2                       4         Galaxy Tab A9               64.0         0  \n",
       "3                       5    Galaxy Watch Ultra                NaN         0  \n",
       "4                       5         Galaxy Watch7                NaN         0  \n",
       "..                    ...                   ...                ...       ...  \n",
       "448                     3            Galaxy A25              128.0         1  \n",
       "449                     3            Galaxy A15              128.0         0  \n",
       "450                     3            Galaxy A06               64.0         0  \n",
       "451                     3            Galaxy A05               64.0         0  \n",
       "452                     2            Galaxy A36              256.0         1  \n",
       "\n",
       "[453 rows x 15 columns]"
      ]
     },
     "execution_count": 71,
     "metadata": {},
     "output_type": "execute_result"
    }
   ],
   "source": [
    "import re\n",
    "\n",
    "\n",
    "def extraer_modelo_base(text):\n",
    "    text = str(text).strip().lower()\n",
    "\n",
    "    # Galaxy Z Fold / Flip\n",
    "    match_z = re.search(r'galaxy\\s+z\\s+(fold|flip)\\d{1,2}', text)\n",
    "    if match_z:\n",
    "        tipo = match_z.group(1).title()  # Fold o Flip\n",
    "        numero = re.search(r'\\d{1,2}', match_z.group(0)).group(0)\n",
    "        return f\"Galaxy Z {tipo}{numero}\"\n",
    "\n",
    "    # Galaxy Tab\n",
    "    match_tab = re.search(r'galaxy\\s+tab\\s+[a-z]?\\d{1,3}(?:\\s+(?!wi-fi|\\d+gb)[a-z]+)?', text)\n",
    "    if match_tab:\n",
    "        return match_tab.group(0).title()\n",
    "\n",
    "    # Galaxy Watch \n",
    "    match_watch = re.search(r'galaxy\\s+watch\\s*[a-z0-9]+', text)\n",
    "    if match_watch:\n",
    "        return match_watch.group(0).title()\n",
    "\n",
    "    # Galaxy Buds\n",
    "    match_buds = re.search(r'galaxy\\s+buds\\s*\\d*[a-z]*', text)\n",
    "    if match_buds:\n",
    "        return match_buds.group(0).title()\n",
    "\n",
    "    # Galaxy Fit\n",
    "    match_fit = re.search(r'galaxy\\s+fit\\s*\\d+', text)\n",
    "    if match_fit:\n",
    "        return match_fit.group(0).title()\n",
    "\n",
    "    # Accesorios (charger, cover, tag, band, case)\n",
    "    match_accessory = re.search(r'(cover|charger|tag|band|case|strap).*', text)\n",
    "    if match_accessory:\n",
    "        return match_accessory.group(0).title()\n",
    "\n",
    "    # Galaxy A/S/Z series (básico)\n",
    "    match_generic = re.search(r'galaxy\\s+[a-z]?\\d{1,3}', text)\n",
    "    if match_generic:\n",
    "        return match_generic.group(0).title()\n",
    "\n",
    "    return None\n",
    "\n",
    "\n",
    "\n",
    "# Extrae almacenamiento más grande\n",
    "def extraer_almacenamiento(text):\n",
    "    text = str(text).lower()\n",
    "    matches = [int(m) for m in re.findall(r'(\\d+)\\s?gb', text)]\n",
    "    return max(matches) if matches else None\n",
    "\n",
    "# Detecta si tiene 5G\n",
    "def contiene_5g(text):\n",
    "    return int('5g' in str(text).lower())\n",
    "\n",
    "\n",
    "# Aplicar\n",
    "db_prac[\"Modelo_base\"] = db_prac[\"Descripción del producto\"].apply(extraer_modelo_base)\n",
    "db_prac[\"Almacenamiento_GB\"] = db_prac[\"Descripción del producto\"].apply(extraer_almacenamiento)\n",
    "db_prac[\"Tiene_5G\"] = db_prac[\"Descripción del producto\"].apply(contiene_5g)\n",
    "\n",
    "db_prac"
   ]
  },
  {
   "cell_type": "markdown",
   "metadata": {},
   "source": [
    "## Análisis Descriptivo de los datos"
   ]
  },
  {
   "cell_type": "markdown",
   "metadata": {},
   "source": [
    "### Revision de valores Nullos"
   ]
  },
  {
   "cell_type": "code",
   "execution_count": 72,
   "metadata": {},
   "outputs": [
    {
     "data": {
      "text/plain": [
       "Descripción del producto        0\n",
       "Precio con descuento            0\n",
       "Precio sin descuento          389\n",
       "Descuento                     389\n",
       "Categoría                       0\n",
       "Subcategoría                    0\n",
       "Imagen                          0\n",
       "Atributos                       0\n",
       "Fecha y hora de extracción      0\n",
       "porc descuento                389\n",
       "Categoría encoded               0\n",
       "Subcategoría encoded            0\n",
       "Modelo_base                     0\n",
       "Almacenamiento_GB             252\n",
       "Tiene_5G                        0\n",
       "dtype: int64"
      ]
     },
     "execution_count": 72,
     "metadata": {},
     "output_type": "execute_result"
    }
   ],
   "source": [
    "# Contamos los valores nullos  y no nullos\n",
    "db_prac.isnull().sum()\n",
    "\n"
   ]
  },
  {
   "cell_type": "markdown",
   "metadata": {},
   "source": [
    "### Datos descriptivos"
   ]
  },
  {
   "cell_type": "code",
   "execution_count": 73,
   "metadata": {},
   "outputs": [
    {
     "data": {
      "text/html": [
       "<div>\n",
       "<style scoped>\n",
       "    .dataframe tbody tr th:only-of-type {\n",
       "        vertical-align: middle;\n",
       "    }\n",
       "\n",
       "    .dataframe tbody tr th {\n",
       "        vertical-align: top;\n",
       "    }\n",
       "\n",
       "    .dataframe thead th {\n",
       "        text-align: right;\n",
       "    }\n",
       "</style>\n",
       "<table border=\"1\" class=\"dataframe\">\n",
       "  <thead>\n",
       "    <tr style=\"text-align: right;\">\n",
       "      <th></th>\n",
       "      <th>Precio con descuento</th>\n",
       "      <th>Precio sin descuento</th>\n",
       "      <th>Descuento</th>\n",
       "      <th>porc descuento</th>\n",
       "      <th>Categoría encoded</th>\n",
       "      <th>Subcategoría encoded</th>\n",
       "      <th>Almacenamiento_GB</th>\n",
       "      <th>Tiene_5G</th>\n",
       "    </tr>\n",
       "  </thead>\n",
       "  <tbody>\n",
       "    <tr>\n",
       "      <th>count</th>\n",
       "      <td>453.000000</td>\n",
       "      <td>64.000000</td>\n",
       "      <td>64.000000</td>\n",
       "      <td>64.000000</td>\n",
       "      <td>453.000000</td>\n",
       "      <td>453.000000</td>\n",
       "      <td>201.000000</td>\n",
       "      <td>453.000000</td>\n",
       "    </tr>\n",
       "    <tr>\n",
       "      <th>mean</th>\n",
       "      <td>376.848499</td>\n",
       "      <td>267.265625</td>\n",
       "      <td>0.231562</td>\n",
       "      <td>23.181399</td>\n",
       "      <td>0.293598</td>\n",
       "      <td>1.558499</td>\n",
       "      <td>249.313433</td>\n",
       "      <td>0.386313</td>\n",
       "    </tr>\n",
       "    <tr>\n",
       "      <th>std</th>\n",
       "      <td>500.186108</td>\n",
       "      <td>265.018013</td>\n",
       "      <td>0.061236</td>\n",
       "      <td>6.069966</td>\n",
       "      <td>0.455914</td>\n",
       "      <td>1.585121</td>\n",
       "      <td>150.828732</td>\n",
       "      <td>0.487442</td>\n",
       "    </tr>\n",
       "    <tr>\n",
       "      <th>min</th>\n",
       "      <td>14.990000</td>\n",
       "      <td>30.000000</td>\n",
       "      <td>0.180000</td>\n",
       "      <td>18.237082</td>\n",
       "      <td>0.000000</td>\n",
       "      <td>0.000000</td>\n",
       "      <td>64.000000</td>\n",
       "      <td>0.000000</td>\n",
       "    </tr>\n",
       "    <tr>\n",
       "      <th>25%</th>\n",
       "      <td>40.000000</td>\n",
       "      <td>45.000000</td>\n",
       "      <td>0.200000</td>\n",
       "      <td>20.000000</td>\n",
       "      <td>0.000000</td>\n",
       "      <td>0.000000</td>\n",
       "      <td>128.000000</td>\n",
       "      <td>0.000000</td>\n",
       "    </tr>\n",
       "    <tr>\n",
       "      <th>50%</th>\n",
       "      <td>125.000000</td>\n",
       "      <td>229.000000</td>\n",
       "      <td>0.200000</td>\n",
       "      <td>20.000000</td>\n",
       "      <td>0.000000</td>\n",
       "      <td>2.000000</td>\n",
       "      <td>256.000000</td>\n",
       "      <td>0.000000</td>\n",
       "    </tr>\n",
       "    <tr>\n",
       "      <th>75%</th>\n",
       "      <td>429.000000</td>\n",
       "      <td>329.000000</td>\n",
       "      <td>0.215000</td>\n",
       "      <td>21.826197</td>\n",
       "      <td>1.000000</td>\n",
       "      <td>2.000000</td>\n",
       "      <td>256.000000</td>\n",
       "      <td>1.000000</td>\n",
       "    </tr>\n",
       "    <tr>\n",
       "      <th>max</th>\n",
       "      <td>2019.000000</td>\n",
       "      <td>1300.000000</td>\n",
       "      <td>0.350000</td>\n",
       "      <td>34.934498</td>\n",
       "      <td>1.000000</td>\n",
       "      <td>5.000000</td>\n",
       "      <td>512.000000</td>\n",
       "      <td>1.000000</td>\n",
       "    </tr>\n",
       "  </tbody>\n",
       "</table>\n",
       "</div>"
      ],
      "text/plain": [
       "       Precio con descuento  Precio sin descuento  Descuento  porc descuento  \\\n",
       "count            453.000000             64.000000  64.000000       64.000000   \n",
       "mean             376.848499            267.265625   0.231562       23.181399   \n",
       "std              500.186108            265.018013   0.061236        6.069966   \n",
       "min               14.990000             30.000000   0.180000       18.237082   \n",
       "25%               40.000000             45.000000   0.200000       20.000000   \n",
       "50%              125.000000            229.000000   0.200000       20.000000   \n",
       "75%              429.000000            329.000000   0.215000       21.826197   \n",
       "max             2019.000000           1300.000000   0.350000       34.934498   \n",
       "\n",
       "       Categoría encoded  Subcategoría encoded  Almacenamiento_GB    Tiene_5G  \n",
       "count         453.000000            453.000000         201.000000  453.000000  \n",
       "mean            0.293598              1.558499         249.313433    0.386313  \n",
       "std             0.455914              1.585121         150.828732    0.487442  \n",
       "min             0.000000              0.000000          64.000000    0.000000  \n",
       "25%             0.000000              0.000000         128.000000    0.000000  \n",
       "50%             0.000000              2.000000         256.000000    0.000000  \n",
       "75%             1.000000              2.000000         256.000000    1.000000  \n",
       "max             1.000000              5.000000         512.000000    1.000000  "
      ]
     },
     "execution_count": 73,
     "metadata": {},
     "output_type": "execute_result"
    }
   ],
   "source": [
    "# Datos descriptivos como media mediana, maximo, minimo, desviación estandar de las variables numéricas\n",
    "db_prac.describe()"
   ]
  },
  {
   "cell_type": "code",
   "execution_count": 74,
   "metadata": {},
   "outputs": [
    {
     "data": {
      "text/html": [
       "<div>\n",
       "<style scoped>\n",
       "    .dataframe tbody tr th:only-of-type {\n",
       "        vertical-align: middle;\n",
       "    }\n",
       "\n",
       "    .dataframe tbody tr th {\n",
       "        vertical-align: top;\n",
       "    }\n",
       "\n",
       "    .dataframe thead th {\n",
       "        text-align: right;\n",
       "    }\n",
       "</style>\n",
       "<table border=\"1\" class=\"dataframe\">\n",
       "  <thead>\n",
       "    <tr style=\"text-align: right;\">\n",
       "      <th></th>\n",
       "      <th>0</th>\n",
       "      <th>1</th>\n",
       "    </tr>\n",
       "  </thead>\n",
       "  <tbody>\n",
       "    <tr>\n",
       "      <th>Tiene_5G</th>\n",
       "      <td>278</td>\n",
       "      <td>175</td>\n",
       "    </tr>\n",
       "  </tbody>\n",
       "</table>\n",
       "</div>"
      ],
      "text/plain": [
       "            0    1\n",
       "Tiene_5G  278  175"
      ]
     },
     "execution_count": 74,
     "metadata": {},
     "output_type": "execute_result"
    }
   ],
   "source": [
    "# Generamos Tablas de frecuencias sde losvalores sobre las variables categóricas\n",
    "## Tablas de frecuencias en formato tabla\n",
    "db_prac[\"Categoría\"].value_counts().to_frame().T\n",
    "db_prac[\"Subcategoría\"].value_counts().to_frame().T\n",
    "db_prac[\"Modelo_base\"].value_counts().to_frame().T\n",
    "db_prac[\"Almacenamiento_GB\"].value_counts().to_frame().T\n",
    "db_prac[\"Tiene_5G\"].value_counts().to_frame().T\n",
    "\n",
    "\n"
   ]
  },
  {
   "cell_type": "markdown",
   "metadata": {},
   "source": [
    "### Correlación"
   ]
  },
  {
   "cell_type": "code",
   "execution_count": 75,
   "metadata": {},
   "outputs": [
    {
     "data": {
      "image/png": "[encoded data removed]",
      "text/plain": [
       "<Figure size 864x576 with 2 Axes>"
      ]
     },
     "metadata": {
      "needs_background": "light"
     },
     "output_type": "display_data"
    }
   ],
   "source": [
    "# Visualizamos la correlación entre las variables numéricas\n",
    "import seaborn as sns\n",
    "import matplotlib.pyplot as plt\n",
    "import matplotlib.dates as mdates\n",
    "import datetime\n",
    "import matplotlib.ticker as ticker\n",
    "import matplotlib.dates as mdates\n",
    "\n",
    "# Correlación entre variables numéricas\n",
    "plt.figure(figsize=(12, 8))\n",
    "sns.heatmap(db_prac.corr(), annot=True, fmt=\".2f\", cmap=\"coolwarm\", center=0)\n",
    "plt.title(\"Correlación entre variables numéricas\")\n",
    "plt.show()\n"
   ]
  },
  {
   "cell_type": "markdown",
   "metadata": {},
   "source": [
    "### Gráficos de distribuciones de las variables"
   ]
  },
  {
   "cell_type": "code",
   "execution_count": 76,
   "metadata": {},
   "outputs": [
    {
     "data": {
      "image/png": "[encoded data removed]",
      "text/plain": [
       "<Figure size 864x576 with 1 Axes>"
      ]
     },
     "metadata": {
      "needs_background": "light"
     },
     "output_type": "display_data"
    },
    {
     "data": {
      "image/png": "[encoded data removed]",
      "text/plain": [
       "<Figure size 864x576 with 1 Axes>"
      ]
     },
     "metadata": {
      "needs_background": "light"
     },
     "output_type": "display_data"
    },
    {
     "data": {
      "image/png": "[encoded data removed]",
      "text/plain": [
       "<Figure size 864x576 with 1 Axes>"
      ]
     },
     "metadata": {
      "needs_background": "light"
     },
     "output_type": "display_data"
    },
    {
     "data": {
      "image/png": "[encoded data removed]",
      "text/plain": [
       "<Figure size 864x576 with 1 Axes>"
      ]
     },
     "metadata": {
      "needs_background": "light"
     },
     "output_type": "display_data"
    },
    {
     "data": {
      "image/png": "[encoded data removed]",
      "text/plain": [
       "<Figure size 864x576 with 1 Axes>"
      ]
     },
     "metadata": {
      "needs_background": "light"
     },
     "output_type": "display_data"
    }
   ],
   "source": [
    "# Visualizando las distribuciones de las variables numéricas\n",
    "plt.figure(figsize=(12, 8))\n",
    "sns.histplot(db_prac[\"Precio con descuento\"], bins=50, kde=True)\n",
    "plt.title(\"Distribución del Precio con Descuento\")\n",
    "plt.xlabel(\"Precio con descuento\")\n",
    "plt.ylabel(\"Frecuencia\")\n",
    "plt.show()\n",
    "plt.figure(figsize=(12, 8))\n",
    "sns.histplot(db_prac[\"Precio sin descuento\"], bins=50, kde=True)\n",
    "plt.title(\"Distribución del Precio sin Descuento\")\n",
    "plt.xlabel(\"Precio sin descuento\")\n",
    "plt.ylabel(\"Frecuencia\")\n",
    "plt.show()\n",
    "plt.figure(figsize=(12, 8))\n",
    "sns.histplot(db_prac[\"Descuento\"], bins=50, kde=True)\n",
    "plt.title(\"Distribución del Descuento\")\n",
    "plt.xlabel(\"Descuento\")\n",
    "plt.ylabel(\"Frecuencia\")\n",
    "plt.show()\n",
    "plt.figure(figsize=(12, 8))\n",
    "sns.histplot(db_prac[\"porc descuento\"], bins=50, kde=True)\n",
    "plt.title(\"Distribución del Descuento (%)\")\n",
    "plt.xlabel(\"Descuento (%)\")\n",
    "plt.ylabel(\"Frecuencia\")\n",
    "plt.show()\n",
    "plt.figure(figsize=(12, 8))\n",
    "sns.histplot(db_prac[\"Almacenamiento_GB\"], bins=50, kde=True)\n",
    "plt.title(\"Distribución del Almacenamiento (GB)\")\n",
    "plt.xlabel(\"Almacenamiento (GB)\")\n",
    "plt.ylabel(\"Frecuencia\")\n",
    "plt.show()\n"
   ]
  },
  {
   "cell_type": "markdown",
   "metadata": {},
   "source": [
    "### Boxplot para detectar valores atípicos"
   ]
  },
  {
   "cell_type": "code",
   "execution_count": 77,
   "metadata": {},
   "outputs": [
    {
     "data": {
      "image/png": "[encoded data removed]",
      "text/plain": [
       "<Figure size 864x576 with 1 Axes>"
      ]
     },
     "metadata": {
      "needs_background": "light"
     },
     "output_type": "display_data"
    },
    {
     "data": {
      "image/png": "[encoded data removed]",
      "text/plain": [
       "<Figure size 864x576 with 1 Axes>"
      ]
     },
     "metadata": {
      "needs_background": "light"
     },
     "output_type": "display_data"
    },
    {
     "data": {
      "image/png": "[encoded data removed]",
      "text/plain": [
       "<Figure size 864x576 with 1 Axes>"
      ]
     },
     "metadata": {
      "needs_background": "light"
     },
     "output_type": "display_data"
    },
    {
     "data": {
      "image/png": "[encoded data removed]",
      "text/plain": [
       "<Figure size 864x576 with 1 Axes>"
      ]
     },
     "metadata": {
      "needs_background": "light"
     },
     "output_type": "display_data"
    },
    {
     "data": {
      "image/png": "[encoded data removed]",
      "text/plain": [
       "<Figure size 864x576 with 1 Axes>"
      ]
     },
     "metadata": {
      "needs_background": "light"
     },
     "output_type": "display_data"
    }
   ],
   "source": [
    "# Valores atipicos en el diagrama de caja\n",
    "plt.figure(figsize=(12, 8))\n",
    "sns.boxplot(x=db_prac[\"Precio con descuento\"])\n",
    "plt.title(\"Diagrama de caja del Precio con Descuento\")\n",
    "plt.xlabel(\"Precio con descuento\")\n",
    "plt.show()\n",
    "plt.figure(figsize=(12, 8))\n",
    "sns.boxplot(x=db_prac[\"Precio sin descuento\"])\n",
    "plt.title(\"Diagrama de caja del Precio sin Descuento\")\n",
    "plt.xlabel(\"Precio sin descuento\")\n",
    "plt.show()\n",
    "plt.figure(figsize=(12, 8))\n",
    "\n",
    "sns.boxplot(x=db_prac[\"Descuento\"])\n",
    "plt.title(\"Diagrama de caja del Descuento\")\n",
    "plt.xlabel(\"Descuento\")\n",
    "plt.show()\n",
    "plt.figure(figsize=(12, 8))\n",
    "sns.boxplot(x=db_prac[\"porc descuento\"])\n",
    "plt.title(\"Diagrama de caja del Descuento (%)\")\n",
    "plt.xlabel(\"Descuento (%)\")\n",
    "plt.show()\n",
    "plt.figure(figsize=(12, 8))\n",
    "sns.boxplot(x=db_prac[\"Almacenamiento_GB\"])\n",
    "plt.title(\"Diagrama de caja del Almacenamiento (GB)\")\n",
    "plt.xlabel(\"Almacenamiento (GB)\")\n",
    "plt.show()\n"
   ]
  },
  {
   "cell_type": "markdown",
   "metadata": {},
   "source": [
    "### Pruebas de normalidad de las variables numéricas"
   ]
  },
  {
   "cell_type": "code",
   "execution_count": 78,
   "metadata": {},
   "outputs": [
    {
     "name": "stdout",
     "output_type": "stream",
     "text": [
      "La variable Precio con descuento no parece provenir de una distribución normal (se rechaza H0)\n",
      "La variable Precio sin descuento parece provenir de una distribución normal (no se rechaza H0)\n",
      "La variable Descuento parece provenir de una distribución normal (no se rechaza H0)\n",
      "La variable porc descuento parece provenir de una distribución normal (no se rechaza H0)\n",
      "La variable Almacenamiento_GB parece provenir de una distribución normal (no se rechaza H0)\n"
     ]
    }
   ],
   "source": [
    "# Pruebas de normalidad\n",
    "from scipy import stats\n",
    "import matplotlib.pyplot as plt\n",
    "\n",
    "import seaborn as sns\n",
    "import matplotlib.pyplot as plt\n",
    "import matplotlib.dates as mdates\n",
    "\n",
    "# Test de normalidad de Shapiro-Wilk\n",
    "def test_normalidad(data):\n",
    "    stat, p = stats.shapiro(data)\n",
    "    alpha = 0.05\n",
    "    if p > alpha:\n",
    "        print(f\"La variable {data.name} parece provenir de una distribución normal (no se rechaza H0)\")\n",
    "    else:\n",
    "        print(f\"La variable {data.name} no parece provenir de una distribución normal (se rechaza H0)\")\n",
    "    \n",
    "\n",
    "# Probar el test de normalidad en la variable \"Precio con descuento\"\n",
    "test_normalidad(db_prac[\"Precio con descuento\"])\n",
    "# Probar el test de normalidad en la variable \"Precio sin descuento\"\n",
    "test_normalidad(db_prac[\"Precio sin descuento\"])\n",
    "# Probar el test de normalidad en la variable \"Descuento\"\n",
    "test_normalidad(db_prac[\"Descuento\"])\n",
    "# Probar el test de normalidad en la variable Porc Descuento\n",
    "test_normalidad(db_prac[\"porc descuento\"])\n",
    "# Probar el test de normalidad en Almacenamiento GB\n",
    "test_normalidad(db_prac[\"Almacenamiento_GB\"])"
   ]
  },
  {
   "cell_type": "markdown",
   "metadata": {},
   "source": [
    "## Modelo Supervisado"
   ]
  },
  {
   "cell_type": "markdown",
   "metadata": {},
   "source": [
    "Para este caso generamos nuestra variable objetivo que es precio alto, precio medio y precio bajo de los diferentes productos. Se hace la transformación a la variable Precio con descuento dividiendo en tres cuartiles y así el asignamos las etiquetas a cada uno de los productos que corresponden a las particiones."
   ]
  },
  {
   "cell_type": "code",
   "execution_count": 79,
   "metadata": {},
   "outputs": [],
   "source": [
    "# Crear segmentos usando cuartiles\n",
    "db_prac[\"segmento_precio\"] = pd.qcut(db_prac[\"Precio con descuento\"], q=3, labels=[\"bajo\", \"medio\", \"alto\"])"
   ]
  },
  {
   "cell_type": "markdown",
   "metadata": {},
   "source": [
    "Los productos deben estar balanceados correctamente ante una partición del 33.33% cada uno"
   ]
  },
  {
   "cell_type": "code",
   "execution_count": 80,
   "metadata": {},
   "outputs": [
    {
     "data": {
      "image/png": "[encoded data removed]",
      "text/plain": [
       "<Figure size 432x288 with 1 Axes>"
      ]
     },
     "metadata": {
      "needs_background": "light"
     },
     "output_type": "display_data"
    }
   ],
   "source": [
    "# Comprobando la creación de segmentos sea balanceada\n",
    "db_prac[\"segmento_precio\"].value_counts().to_frame().T\n",
    "# Comprobando la creación de segmentos sea balanceada\n",
    "db_prac[\"segmento_precio\"].value_counts().plot(kind=\"bar\")\n",
    "plt.title(\"Distribución de segmentos de precio\")\n",
    "plt.xlabel(\"Segmento de precio\")\n",
    "plt.ylabel(\"Frecuencia\")\n",
    "plt.show()"
   ]
  },
  {
   "cell_type": "code",
   "execution_count": 81,
   "metadata": {},
   "outputs": [
    {
     "data": {
      "text/html": [
       "<div>\n",
       "<style scoped>\n",
       "    .dataframe tbody tr th:only-of-type {\n",
       "        vertical-align: middle;\n",
       "    }\n",
       "\n",
       "    .dataframe tbody tr th {\n",
       "        vertical-align: top;\n",
       "    }\n",
       "\n",
       "    .dataframe thead th {\n",
       "        text-align: right;\n",
       "    }\n",
       "</style>\n",
       "<table border=\"1\" class=\"dataframe\">\n",
       "  <thead>\n",
       "    <tr style=\"text-align: right;\">\n",
       "      <th></th>\n",
       "      <th>porc descuento</th>\n",
       "      <th>Almacenamiento_GB</th>\n",
       "      <th>Tiene_5G</th>\n",
       "      <th>Categoría encoded</th>\n",
       "      <th>Subcategoría encoded</th>\n",
       "    </tr>\n",
       "  </thead>\n",
       "  <tbody>\n",
       "    <tr>\n",
       "      <th>0</th>\n",
       "      <td>0.000000</td>\n",
       "      <td>256.0</td>\n",
       "      <td>0</td>\n",
       "      <td>0</td>\n",
       "      <td>4</td>\n",
       "    </tr>\n",
       "    <tr>\n",
       "      <th>1</th>\n",
       "      <td>0.000000</td>\n",
       "      <td>256.0</td>\n",
       "      <td>0</td>\n",
       "      <td>0</td>\n",
       "      <td>4</td>\n",
       "    </tr>\n",
       "    <tr>\n",
       "      <th>2</th>\n",
       "      <td>0.000000</td>\n",
       "      <td>64.0</td>\n",
       "      <td>0</td>\n",
       "      <td>0</td>\n",
       "      <td>4</td>\n",
       "    </tr>\n",
       "    <tr>\n",
       "      <th>3</th>\n",
       "      <td>33.898305</td>\n",
       "      <td>0.0</td>\n",
       "      <td>0</td>\n",
       "      <td>0</td>\n",
       "      <td>5</td>\n",
       "    </tr>\n",
       "    <tr>\n",
       "      <th>4</th>\n",
       "      <td>18.237082</td>\n",
       "      <td>0.0</td>\n",
       "      <td>0</td>\n",
       "      <td>0</td>\n",
       "      <td>5</td>\n",
       "    </tr>\n",
       "    <tr>\n",
       "      <th>...</th>\n",
       "      <td>...</td>\n",
       "      <td>...</td>\n",
       "      <td>...</td>\n",
       "      <td>...</td>\n",
       "      <td>...</td>\n",
       "    </tr>\n",
       "    <tr>\n",
       "      <th>448</th>\n",
       "      <td>0.000000</td>\n",
       "      <td>128.0</td>\n",
       "      <td>1</td>\n",
       "      <td>0</td>\n",
       "      <td>3</td>\n",
       "    </tr>\n",
       "    <tr>\n",
       "      <th>449</th>\n",
       "      <td>0.000000</td>\n",
       "      <td>128.0</td>\n",
       "      <td>0</td>\n",
       "      <td>0</td>\n",
       "      <td>3</td>\n",
       "    </tr>\n",
       "    <tr>\n",
       "      <th>450</th>\n",
       "      <td>0.000000</td>\n",
       "      <td>64.0</td>\n",
       "      <td>0</td>\n",
       "      <td>0</td>\n",
       "      <td>3</td>\n",
       "    </tr>\n",
       "    <tr>\n",
       "      <th>451</th>\n",
       "      <td>0.000000</td>\n",
       "      <td>64.0</td>\n",
       "      <td>0</td>\n",
       "      <td>0</td>\n",
       "      <td>3</td>\n",
       "    </tr>\n",
       "    <tr>\n",
       "      <th>452</th>\n",
       "      <td>20.000000</td>\n",
       "      <td>256.0</td>\n",
       "      <td>1</td>\n",
       "      <td>1</td>\n",
       "      <td>2</td>\n",
       "    </tr>\n",
       "  </tbody>\n",
       "</table>\n",
       "<p>453 rows × 5 columns</p>\n",
       "</div>"
      ],
      "text/plain": [
       "     porc descuento  Almacenamiento_GB  Tiene_5G  Categoría encoded  \\\n",
       "0          0.000000              256.0         0                  0   \n",
       "1          0.000000              256.0         0                  0   \n",
       "2          0.000000               64.0         0                  0   \n",
       "3         33.898305                0.0         0                  0   \n",
       "4         18.237082                0.0         0                  0   \n",
       "..              ...                ...       ...                ...   \n",
       "448        0.000000              128.0         1                  0   \n",
       "449        0.000000              128.0         0                  0   \n",
       "450        0.000000               64.0         0                  0   \n",
       "451        0.000000               64.0         0                  0   \n",
       "452       20.000000              256.0         1                  1   \n",
       "\n",
       "     Subcategoría encoded  \n",
       "0                       4  \n",
       "1                       4  \n",
       "2                       4  \n",
       "3                       5  \n",
       "4                       5  \n",
       "..                    ...  \n",
       "448                     3  \n",
       "449                     3  \n",
       "450                     3  \n",
       "451                     3  \n",
       "452                     2  \n",
       "\n",
       "[453 rows x 5 columns]"
      ]
     },
     "execution_count": 81,
     "metadata": {},
     "output_type": "execute_result"
    }
   ],
   "source": [
    "features = [\n",
    "    \"porc descuento\",\n",
    "    \"Almacenamiento_GB\",\n",
    "    \"Tiene_5G\",\n",
    "    \"Categoría encoded\",\n",
    "    \"Subcategoría encoded\"\n",
    "]\n",
    "\n",
    "# df_model = db_prac.dropna(subset=features + [\"segmento_precio\"])\n",
    "db_prac[\"porc descuento\"].fillna(0, inplace=True)\n",
    "db_prac[\"Almacenamiento_GB\"].fillna(0, inplace=True)\n",
    "\n",
    "df_model = db_prac[features + [\"segmento_precio\"]]\n",
    "X = df_model[features]\n",
    "y = df_model[\"segmento_precio\"]\n",
    "\n",
    "X"
   ]
  },
  {
   "cell_type": "markdown",
   "metadata": {},
   "source": [
    "Agregamos el día de la semana para tratar de evitar sesgos de productos que tengan más cercanía con ciertos días la dinámica de precios."
   ]
  },
  {
   "cell_type": "code",
   "execution_count": 82,
   "metadata": {},
   "outputs": [],
   "source": [
    "# Convert the column to datetime format\n",
    "db_prac[\"Fecha y hora de extracción\"] = pd.to_datetime(db_prac[\"Fecha y hora de extracción\"], format='%Y-%m-%d %H:%M:%S')\n",
    "\n",
    "# Extract the day of the week\n",
    "db_prac[\"dia_semana\"] = db_prac[\"Fecha y hora de extracción\"].dt.dayofweek\n",
    "\n",
    "# Add the new feature to the features list\n",
    "features.append(\"dia_semana\")\n"
   ]
  },
  {
   "cell_type": "code",
   "execution_count": 83,
   "metadata": {},
   "outputs": [
    {
     "data": {
      "text/html": [
       "<div>\n",
       "<style scoped>\n",
       "    .dataframe tbody tr th:only-of-type {\n",
       "        vertical-align: middle;\n",
       "    }\n",
       "\n",
       "    .dataframe tbody tr th {\n",
       "        vertical-align: top;\n",
       "    }\n",
       "\n",
       "    .dataframe thead th {\n",
       "        text-align: right;\n",
       "    }\n",
       "</style>\n",
       "<table border=\"1\" class=\"dataframe\">\n",
       "  <thead>\n",
       "    <tr style=\"text-align: right;\">\n",
       "      <th></th>\n",
       "      <th>porc descuento</th>\n",
       "      <th>Almacenamiento_GB</th>\n",
       "      <th>Tiene_5G</th>\n",
       "      <th>Categoría encoded</th>\n",
       "      <th>Subcategoría encoded</th>\n",
       "      <th>dia_semana</th>\n",
       "    </tr>\n",
       "  </thead>\n",
       "  <tbody>\n",
       "    <tr>\n",
       "      <th>0</th>\n",
       "      <td>0.000000</td>\n",
       "      <td>256.0</td>\n",
       "      <td>0</td>\n",
       "      <td>0</td>\n",
       "      <td>4</td>\n",
       "      <td>6</td>\n",
       "    </tr>\n",
       "    <tr>\n",
       "      <th>1</th>\n",
       "      <td>0.000000</td>\n",
       "      <td>256.0</td>\n",
       "      <td>0</td>\n",
       "      <td>0</td>\n",
       "      <td>4</td>\n",
       "      <td>6</td>\n",
       "    </tr>\n",
       "    <tr>\n",
       "      <th>2</th>\n",
       "      <td>0.000000</td>\n",
       "      <td>64.0</td>\n",
       "      <td>0</td>\n",
       "      <td>0</td>\n",
       "      <td>4</td>\n",
       "      <td>6</td>\n",
       "    </tr>\n",
       "    <tr>\n",
       "      <th>3</th>\n",
       "      <td>33.898305</td>\n",
       "      <td>0.0</td>\n",
       "      <td>0</td>\n",
       "      <td>0</td>\n",
       "      <td>5</td>\n",
       "      <td>6</td>\n",
       "    </tr>\n",
       "    <tr>\n",
       "      <th>4</th>\n",
       "      <td>18.237082</td>\n",
       "      <td>0.0</td>\n",
       "      <td>0</td>\n",
       "      <td>0</td>\n",
       "      <td>5</td>\n",
       "      <td>6</td>\n",
       "    </tr>\n",
       "    <tr>\n",
       "      <th>...</th>\n",
       "      <td>...</td>\n",
       "      <td>...</td>\n",
       "      <td>...</td>\n",
       "      <td>...</td>\n",
       "      <td>...</td>\n",
       "      <td>...</td>\n",
       "    </tr>\n",
       "    <tr>\n",
       "      <th>448</th>\n",
       "      <td>0.000000</td>\n",
       "      <td>128.0</td>\n",
       "      <td>1</td>\n",
       "      <td>0</td>\n",
       "      <td>3</td>\n",
       "      <td>6</td>\n",
       "    </tr>\n",
       "    <tr>\n",
       "      <th>449</th>\n",
       "      <td>0.000000</td>\n",
       "      <td>128.0</td>\n",
       "      <td>0</td>\n",
       "      <td>0</td>\n",
       "      <td>3</td>\n",
       "      <td>6</td>\n",
       "    </tr>\n",
       "    <tr>\n",
       "      <th>450</th>\n",
       "      <td>0.000000</td>\n",
       "      <td>64.0</td>\n",
       "      <td>0</td>\n",
       "      <td>0</td>\n",
       "      <td>3</td>\n",
       "      <td>6</td>\n",
       "    </tr>\n",
       "    <tr>\n",
       "      <th>451</th>\n",
       "      <td>0.000000</td>\n",
       "      <td>64.0</td>\n",
       "      <td>0</td>\n",
       "      <td>0</td>\n",
       "      <td>3</td>\n",
       "      <td>6</td>\n",
       "    </tr>\n",
       "    <tr>\n",
       "      <th>452</th>\n",
       "      <td>20.000000</td>\n",
       "      <td>256.0</td>\n",
       "      <td>1</td>\n",
       "      <td>1</td>\n",
       "      <td>2</td>\n",
       "      <td>6</td>\n",
       "    </tr>\n",
       "  </tbody>\n",
       "</table>\n",
       "<p>453 rows × 6 columns</p>\n",
       "</div>"
      ],
      "text/plain": [
       "     porc descuento  Almacenamiento_GB  Tiene_5G  Categoría encoded  \\\n",
       "0          0.000000              256.0         0                  0   \n",
       "1          0.000000              256.0         0                  0   \n",
       "2          0.000000               64.0         0                  0   \n",
       "3         33.898305                0.0         0                  0   \n",
       "4         18.237082                0.0         0                  0   \n",
       "..              ...                ...       ...                ...   \n",
       "448        0.000000              128.0         1                  0   \n",
       "449        0.000000              128.0         0                  0   \n",
       "450        0.000000               64.0         0                  0   \n",
       "451        0.000000               64.0         0                  0   \n",
       "452       20.000000              256.0         1                  1   \n",
       "\n",
       "     Subcategoría encoded  dia_semana  \n",
       "0                       4           6  \n",
       "1                       4           6  \n",
       "2                       4           6  \n",
       "3                       5           6  \n",
       "4                       5           6  \n",
       "..                    ...         ...  \n",
       "448                     3           6  \n",
       "449                     3           6  \n",
       "450                     3           6  \n",
       "451                     3           6  \n",
       "452                     2           6  \n",
       "\n",
       "[453 rows x 6 columns]"
      ]
     },
     "execution_count": 83,
     "metadata": {},
     "output_type": "execute_result"
    }
   ],
   "source": [
    "from sklearn.impute import SimpleImputer\n",
    "\n",
    "# Definir el imputador para todas las columnas\n",
    "imputer = SimpleImputer(strategy=\"most_frequent\")  # o \"mean\" para columnas numéricas\n",
    "\n",
    "X = db_prac[features]\n",
    "X_imputed = pd.DataFrame(imputer.fit_transform(X), columns=features)\n",
    "y = db_prac[\"segmento_precio\"]\n",
    "\n",
    "X\n"
   ]
  },
  {
   "cell_type": "code",
   "execution_count": 84,
   "metadata": {},
   "outputs": [
    {
     "name": "stdout",
     "output_type": "stream",
     "text": [
      "Cross-validation scores: [0.859375   0.875      0.92063492 0.85714286 0.9047619 ]\n",
      "Mean cross-validation score: 0.8833829365079365\n",
      "[[45  0  0]\n",
      " [ 0 46  0]\n",
      " [ 1  7 37]]\n",
      "              precision    recall  f1-score   support\n",
      "\n",
      "        alto       0.98      1.00      0.99        45\n",
      "        bajo       0.87      1.00      0.93        46\n",
      "       medio       1.00      0.82      0.90        45\n",
      "\n",
      "    accuracy                           0.94       136\n",
      "   macro avg       0.95      0.94      0.94       136\n",
      "weighted avg       0.95      0.94      0.94       136\n",
      "\n",
      "Precision:  0.9411764705882353\n"
     ]
    }
   ],
   "source": [
    "from sklearn.ensemble import RandomForestClassifier\n",
    "from sklearn.model_selection import train_test_split\n",
    "from sklearn.metrics import classification_report, confusion_matrix\n",
    "\n",
    "X_train, X_test, y_train, y_test = train_test_split(X, y, stratify=y, test_size=0.3, random_state=42)\n",
    "\n",
    "model = RandomForestClassifier(random_state=42)\n",
    "\n",
    "# Validación cruzada\n",
    "from sklearn.model_selection import cross_val_score\n",
    "scores = cross_val_score(model, X_train, y_train, cv=5)\n",
    "print(\"Cross-validation scores:\", scores)\n",
    "print(\"Mean cross-validation score:\", scores.mean())\n",
    "\n",
    "# Entrenamos\n",
    "model.fit(X_train, y_train)\n",
    "\n",
    "y_pred = model.predict(X_test)\n",
    "\n",
    "print(confusion_matrix(y_test, y_pred))\n",
    "print(classification_report(y_test, y_pred))\n",
    "\n",
    "# Sacando la precisión\n",
    "print(\"Precision: \", model.score(X_test, y_test))"
   ]
  },
  {
   "cell_type": "code",
   "execution_count": 85,
   "metadata": {},
   "outputs": [
    {
     "data": {
      "image/png": "[encoded data removed]",
      "text/plain": [
       "<Figure size 432x288 with 1 Axes>"
      ]
     },
     "metadata": {
      "needs_background": "light"
     },
     "output_type": "display_data"
    }
   ],
   "source": [
    "# Matriz de importancia de las variables\n",
    "import pandas as pd\n",
    "import matplotlib.pyplot as plt\n",
    "\n",
    "model.fit(X, y)\n",
    "importances = pd.Series(model.feature_importances_, index=X.columns)\n",
    "importances.sort_values().plot(kind='barh', title=\"Importancia de variables\")\n",
    "plt.tight_layout()\n",
    "plt.show()\n"
   ]
  },
  {
   "cell_type": "code",
   "execution_count": 86,
   "metadata": {},
   "outputs": [
    {
     "name": "stdout",
     "output_type": "stream",
     "text": [
      "Mejor score: 0.9182661782661782\n",
      "Mejores parámetros: {'max_depth': None, 'min_samples_split': 10, 'n_estimators': 100}\n"
     ]
    }
   ],
   "source": [
    "# Ajuste de Parámetros GridSearch\n",
    "from sklearn.model_selection import GridSearchCV\n",
    "\n",
    "# Definimos el espacio de búsqueda\n",
    "# n_estimators: número de árboles en el bosque\n",
    "# max_depth: profundidad máxima del árbol\n",
    "# min_samples_split: número mínimo de muestras requeridas para dividir un nodo\n",
    "\n",
    "\n",
    "param_grid = {\n",
    "    'n_estimators': [50, 100, 200],\n",
    "    'max_depth': [None, 5, 10],\n",
    "    'min_samples_split': [2, 5, 10]\n",
    "}\n",
    "\n",
    "grid = GridSearchCV(RandomForestClassifier(random_state=42), param_grid, cv=5, scoring='accuracy')\n",
    "grid.fit(X, y)\n",
    "\n",
    "print(\"Mejor score:\", grid.best_score_)\n",
    "print(\"Mejores parámetros:\", grid.best_params_)\n"
   ]
  },
  {
   "cell_type": "code",
   "execution_count": 87,
   "metadata": {},
   "outputs": [
    {
     "name": "stdout",
     "output_type": "stream",
     "text": [
      "[[45  0  0]\n",
      " [ 0 46  0]\n",
      " [ 1  7 37]]\n",
      "              precision    recall  f1-score   support\n",
      "\n",
      "        alto       0.98      1.00      0.99        45\n",
      "        bajo       0.87      1.00      0.93        46\n",
      "       medio       1.00      0.82      0.90        45\n",
      "\n",
      "    accuracy                           0.94       136\n",
      "   macro avg       0.95      0.94      0.94       136\n",
      "weighted avg       0.95      0.94      0.94       136\n",
      "\n",
      "Precision:  0.9411764705882353\n"
     ]
    },
    {
     "data": {
      "image/png": "[encoded data removed]",
      "text/plain": [
       "<Figure size 432x288 with 1 Axes>"
      ]
     },
     "metadata": {
      "needs_background": "light"
     },
     "output_type": "display_data"
    }
   ],
   "source": [
    "# En base a los mejores parámetros, entrenamos el modelo\n",
    "model = RandomForestClassifier(\n",
    "    n_estimators=grid.best_params_['n_estimators'],\n",
    "    max_depth=grid.best_params_['max_depth'],\n",
    "    min_samples_split=grid.best_params_['min_samples_split'],\n",
    "    random_state=42\n",
    ")\n",
    "\n",
    "model.fit(X_train, y_train)\n",
    "y_pred = model.predict(X_test)\n",
    "print(confusion_matrix(y_test, y_pred))\n",
    "print(classification_report(y_test, y_pred))\n",
    "print(\"Precision: \", model.score(X_test, y_test))\n",
    "# Matriz de importancia de las variables\n",
    "import pandas as pd\n",
    "import matplotlib.pyplot as plt\n",
    "importances = pd.Series(model.feature_importances_, index=X.columns)\n",
    "importances.sort_values().plot(kind='barh', title=\"Importancia de variables\")\n",
    "plt.tight_layout()\n",
    "plt.show()\n",
    "\n"
   ]
  },
  {
   "cell_type": "markdown",
   "metadata": {},
   "source": [
    "No se imputandatos en nuestra data set porque por ejemplo si imputaramosel almacenamiento o el ram de cada valor faltante y si este valor es imputado por ejemplo para unprotector de celular, entonces es ilógico tener esta imputación por lo que es conveniente dejar así como están los datos auscentes ya que tienen más significado como están que con datos imputados ilógicos."
   ]
  },
  {
   "cell_type": "markdown",
   "metadata": {},
   "source": [
    "## Modelono no superviado"
   ]
  },
  {
   "cell_type": "code",
   "execution_count": null,
   "metadata": {},
   "outputs": [
    {
     "name": "stderr",
     "output_type": "stream",
     "text": [
      "/Users/usuario/opt/anaconda3/lib/python3.8/site-packages/sklearn/cluster/_kmeans.py:1416: FutureWarning: The default value of `n_init` will change from 10 to 'auto' in 1.4. Set the value of `n_init` explicitly to suppress the warning\n",
      "  super()._check_params_vs_input(X, default_n_init=10)\n",
      "/Users/usuario/opt/anaconda3/lib/python3.8/site-packages/sklearn/cluster/_kmeans.py:1416: FutureWarning: The default value of `n_init` will change from 10 to 'auto' in 1.4. Set the value of `n_init` explicitly to suppress the warning\n",
      "  super()._check_params_vs_input(X, default_n_init=10)\n",
      "/Users/usuario/opt/anaconda3/lib/python3.8/site-packages/sklearn/cluster/_kmeans.py:1416: FutureWarning: The default value of `n_init` will change from 10 to 'auto' in 1.4. Set the value of `n_init` explicitly to suppress the warning\n",
      "  super()._check_params_vs_input(X, default_n_init=10)\n",
      "/Users/usuario/opt/anaconda3/lib/python3.8/site-packages/sklearn/cluster/_kmeans.py:1416: FutureWarning: The default value of `n_init` will change from 10 to 'auto' in 1.4. Set the value of `n_init` explicitly to suppress the warning\n",
      "  super()._check_params_vs_input(X, default_n_init=10)\n",
      "/Users/usuario/opt/anaconda3/lib/python3.8/site-packages/sklearn/cluster/_kmeans.py:1416: FutureWarning: The default value of `n_init` will change from 10 to 'auto' in 1.4. Set the value of `n_init` explicitly to suppress the warning\n",
      "  super()._check_params_vs_input(X, default_n_init=10)\n",
      "/Users/usuario/opt/anaconda3/lib/python3.8/site-packages/sklearn/base.py:1152: ConvergenceWarning: Number of distinct clusters (4) found smaller than n_clusters (5). Possibly due to duplicate points in X.\n",
      "  return fit_method(estimator, *args, **kwargs)\n",
      "/Users/usuario/opt/anaconda3/lib/python3.8/site-packages/sklearn/cluster/_kmeans.py:1416: FutureWarning: The default value of `n_init` will change from 10 to 'auto' in 1.4. Set the value of `n_init` explicitly to suppress the warning\n",
      "  super()._check_params_vs_input(X, default_n_init=10)\n",
      "/Users/usuario/opt/anaconda3/lib/python3.8/site-packages/sklearn/base.py:1152: ConvergenceWarning: Number of distinct clusters (4) found smaller than n_clusters (6). Possibly due to duplicate points in X.\n",
      "  return fit_method(estimator, *args, **kwargs)\n",
      "/Users/usuario/opt/anaconda3/lib/python3.8/site-packages/sklearn/cluster/_kmeans.py:1416: FutureWarning: The default value of `n_init` will change from 10 to 'auto' in 1.4. Set the value of `n_init` explicitly to suppress the warning\n",
      "  super()._check_params_vs_input(X, default_n_init=10)\n",
      "/Users/usuario/opt/anaconda3/lib/python3.8/site-packages/sklearn/base.py:1152: ConvergenceWarning: Number of distinct clusters (4) found smaller than n_clusters (7). Possibly due to duplicate points in X.\n",
      "  return fit_method(estimator, *args, **kwargs)\n",
      "/Users/usuario/opt/anaconda3/lib/python3.8/site-packages/sklearn/cluster/_kmeans.py:1416: FutureWarning: The default value of `n_init` will change from 10 to 'auto' in 1.4. Set the value of `n_init` explicitly to suppress the warning\n",
      "  super()._check_params_vs_input(X, default_n_init=10)\n",
      "/Users/usuario/opt/anaconda3/lib/python3.8/site-packages/sklearn/base.py:1152: ConvergenceWarning: Number of distinct clusters (4) found smaller than n_clusters (8). Possibly due to duplicate points in X.\n",
      "  return fit_method(estimator, *args, **kwargs)\n"
     ]
    },
    {
     "data": {
      "image/png": "[encoded data removed]",
      "text/plain": [
       "<Figure size 432x288 with 1 Axes>"
      ]
     },
     "metadata": {
      "needs_background": "light"
     },
     "output_type": "display_data"
    }
   ],
   "source": [
    "from sklearn.preprocessing import StandardScaler\n",
    "from sklearn.cluster import KMeans\n",
    "import matplotlib.pyplot as plt\n",
    "\n",
    "# Features numéricas\n",
    "cluster_vars = [\"Precio con descuento\", \"porc descuento\", \"Almacenamiento_GB\", \"Tiene_5G\", \"Categoría encoded\", \"Subcategoría encoded\"]\n",
    "\n",
    "# Quitar nulos\n",
    "df_cluster = db_prac.dropna(subset=cluster_vars)\n",
    "\n",
    "# Escalar\n",
    "scaler = StandardScaler()\n",
    "X_scaled = scaler.fit_transform(df_cluster[cluster_vars])\n",
    "\n",
    "# Adjust the range of k to avoid exceeding the number of samples\n",
    "k_range = range(1, len(X_scaled) + 1)\n",
    "\n",
    "# Calcular la inercia para distintos valores de k\n",
    "inertias = []\n",
    "\n",
    "for k in k_range:\n",
    "    kmeans = KMeans(n_clusters=k, random_state=42)\n",
    "    kmeans.fit(X_scaled)\n",
    "    inertias.append(kmeans.inertia_)\n",
    "\n",
    "# Graficar el codo\n",
    "plt.plot(k_range, inertias, marker='o')\n",
    "plt.xlabel(\"Número de clusters (k)\")\n",
    "plt.ylabel(\"Inercia\")\n",
    "plt.title(\"Método del codo para determinar k\")\n",
    "plt.show()\n"
   ]
  },
  {
   "cell_type": "code",
   "execution_count": null,
   "metadata": {},
   "outputs": [
    {
     "name": "stderr",
     "output_type": "stream",
     "text": [
      "/Users/usuario/opt/anaconda3/lib/python3.8/site-packages/sklearn/cluster/_kmeans.py:1416: FutureWarning: The default value of `n_init` will change from 10 to 'auto' in 1.4. Set the value of `n_init` explicitly to suppress the warning\n",
      "  super()._check_params_vs_input(X, default_n_init=10)\n",
      "<ipython-input-164-83ba7c7cfb20>:17: SettingWithCopyWarning: \n",
      "A value is trying to be set on a copy of a slice from a DataFrame.\n",
      "Try using .loc[row_indexer,col_indexer] = value instead\n",
      "\n",
      "See the caveats in the documentation: https://pandas.pydata.org/pandas-docs/stable/user_guide/indexing.html#returning-a-view-versus-a-copy\n",
      "  df_cluster[\"cluster\"] = kmeans.fit_predict(X_scaled)\n"
     ]
    },
    {
     "data": {
      "image/png": "[encoded data removed]",
      "text/plain": [
       "<Figure size 432x288 with 1 Axes>"
      ]
     },
     "metadata": {
      "needs_background": "light"
     },
     "output_type": "display_data"
    },
    {
     "name": "stdout",
     "output_type": "stream",
     "text": [
      "Silhouette Score: 0.977339807976529\n",
      "Calinski-Harabasz Score: 2376.77517361111\n",
      "Davies-Bouldin Score: 0.03013140129410172\n",
      "Resultado del modelo: Modelo Bueno\n"
     ]
    }
   ],
   "source": [
    "from sklearn.preprocessing import StandardScaler\n",
    "from sklearn.cluster import KMeans\n",
    "import matplotlib.pyplot as plt\n",
    "\n",
    "# Features numéricas\n",
    "cluster_vars = [\"Precio con descuento\", \"porc descuento\", \"Almacenamiento_GB\", \"Tiene_5G\", \"Categoría encoded\", \"Subcategoría encoded\"]\n",
    "\n",
    "# Quitar nulos\n",
    "df_cluster = db_prac.dropna(subset=cluster_vars)\n",
    "\n",
    "# Escalar\n",
    "scaler = StandardScaler()\n",
    "X_scaled = scaler.fit_transform(df_cluster[cluster_vars])\n",
    "\n",
    "# KMeans\n",
    "kmeans = KMeans(n_clusters=3, random_state=42)\n",
    "df_cluster[\"cluster\"] = kmeans.fit_predict(X_scaled)\n",
    "\n",
    "# Visualización rápida\n",
    "plt.scatter(df_cluster[\"Precio con descuento\"], df_cluster[\"porc descuento\"], c=df_cluster[\"cluster\"])\n",
    "plt.xlabel(\"Precio\")\n",
    "plt.ylabel(\"Descuento (%)\")\n",
    "plt.title(\"Clustering de productos Samsung\")\n",
    "plt.show()\n",
    "\n",
    "# Medidas de evaluación\n",
    "from sklearn.metrics import silhouette_score, calinski_harabasz_score, davies_bouldin_score\n",
    "silhouette = silhouette_score(X_scaled, df_cluster[\"cluster\"])\n",
    "calinski = calinski_harabasz_score(X_scaled, df_cluster[\"cluster\"])\n",
    "davies = davies_bouldin_score(X_scaled, df_cluster[\"cluster\"])\n",
    "print(\"Silhouette Score:\", silhouette)\n",
    "print(\"Calinski-Harabasz Score:\", calinski)\n",
    "print(\"Davies-Bouldin Score:\", davies)\n",
    "\n",
    "# Condicional para evaluar el modelo en base a las medidas con dos resultados modelo bueno y malo\n",
    "def evaluar_modelo(silhouette, calinski, davies):\n",
    "    if silhouette > 0.5 and calinski > 200 and davies < 1:\n",
    "        return \"Modelo Bueno\"\n",
    "    else:\n",
    "        return \"Modelo Malo\"\n",
    "    \n",
    "# Evaluar el modelo\n",
    "resultado = evaluar_modelo(silhouette, calinski, davies)\n",
    "print(\"Resultado del modelo:\", resultado)"
   ]
  },
  {
   "cell_type": "code",
   "execution_count": null,
   "metadata": {},
   "outputs": [
    {
     "name": "stdout",
     "output_type": "stream",
     "text": [
      " 0    4\n",
      "-1    4\n",
      "Name: cluster_dbscan, dtype: int64\n"
     ]
    },
    {
     "name": "stderr",
     "output_type": "stream",
     "text": [
      "<ipython-input-163-5923918c83a9>:4: SettingWithCopyWarning: \n",
      "A value is trying to be set on a copy of a slice from a DataFrame.\n",
      "Try using .loc[row_indexer,col_indexer] = value instead\n",
      "\n",
      "See the caveats in the documentation: https://pandas.pydata.org/pandas-docs/stable/user_guide/indexing.html#returning-a-view-versus-a-copy\n",
      "  df_cluster[\"cluster_dbscan\"] = dbscan.fit_predict(X_scaled)\n"
     ]
    }
   ],
   "source": [
    "from sklearn.cluster import DBSCAN\n",
    "\n",
    "dbscan = DBSCAN(eps=1.2, min_samples=3)\n",
    "df_cluster[\"cluster_dbscan\"] = dbscan.fit_predict(X_scaled)\n",
    "\n",
    "# Revisar resultados\n",
    "print(df_cluster[\"cluster_dbscan\"].value_counts())\n"
   ]
  },
  {
   "cell_type": "code",
   "execution_count": null,
   "metadata": {},
   "outputs": [],
   "source": [
    "## Clustering Jerárquico\n",
    "\n",
    "\n",
    "from sklearn.preprocessing import StandardScaler\n",
    "from scipy.cluster.hierarchy import dendrogram, linkage\n",
    "\n",
    "# Reemplazar NaN con la media por columna\n",
    "imputer = SimpleImputer(strategy='mean')\n",
    "X_imputado = imputer.fit_transform(db_prac[cluster_vars])\n",
    "\n",
    "# Escalar\n",
    "scaler = StandardScaler()\n",
    "X_scaled = scaler.fit_transform(X_imputado)\n",
    "\n"
   ]
  },
  {
   "cell_type": "code",
   "execution_count": null,
   "metadata": {},
   "outputs": [
    {
     "data": {
      "image/png": "[encoded data removed]",
      "text/plain": [
       "<Figure size 1008x432 with 1 Axes>"
      ]
     },
     "metadata": {
      "needs_background": "light"
     },
     "output_type": "display_data"
    },
    {
     "name": "stdout",
     "output_type": "stream",
     "text": [
      "Silhouette Score: 0.7551806964967707\n",
      "Calinski-Harabasz Score: 107.55151172587286\n",
      "Davies-Bouldin Score: 0.4870841368358492\n"
     ]
    }
   ],
   "source": [
    "# ------------------------------\n",
    "# 1. Filtrar productos con descripción válida\n",
    "# ------------------------------\n",
    "df_cluster = db_prac.drop_duplicates(subset=\"Descripción del producto\")\n",
    "df_cluster = df_cluster.dropna(subset=[\"Descripción del producto\"])  # por seguridad\n",
    "\n",
    "# ------------------------------\n",
    "# 2. Imputar NaN con media\n",
    "# ------------------------------\n",
    "imputer = SimpleImputer(strategy='mean')\n",
    "X_imputado = imputer.fit_transform(df_cluster[cluster_vars])\n",
    "\n",
    "# ------------------------------\n",
    "# 3. Escalar los datos\n",
    "# ------------------------------\n",
    "scaler = StandardScaler()\n",
    "X_scaled = scaler.fit_transform(X_imputado)\n",
    "\n",
    "# ------------------------------\n",
    "# 4. Clustering jerárquico y dendrograma\n",
    "# ------------------------------\n",
    "linked = linkage(X_scaled, method='ward')\n",
    "\n",
    "plt.figure(figsize=(14, 6))\n",
    "dendrogram(linked,\n",
    "           labels=df_cluster[\"Descripción del producto\"].values,\n",
    "           leaf_rotation=90)\n",
    "plt.title(\"Dendrograma de productos Samsung\")\n",
    "plt.xlabel(\"Producto\")\n",
    "plt.ylabel(\"Distancia\")\n",
    "plt.tight_layout()\n",
    "plt.show()\n",
    "\n",
    "#Medidas de evaluación\n",
    "from sklearn.metrics import silhouette_score, calinski_harabasz_score, davies_bouldin_score\n",
    "from scipy.cluster.hierarchy import fcluster\n",
    "\n",
    "# Asignar clusters \n",
    "df_cluster[\"cluster\"] = fcluster(linked, t=12, criterion='maxclust')\n",
    "\n",
    "silhouette = silhouette_score(X_scaled, df_cluster[\"cluster\"])\n",
    "calinski = calinski_harabasz_score(X_scaled, df_cluster[\"cluster\"])\n",
    "\n",
    "davies = davies_bouldin_score(X_scaled, df_cluster[\"cluster\"])\n",
    "print(\"Silhouette Score:\", silhouette)\n",
    "print(\"Calinski-Harabasz Score:\", calinski)\n",
    "print(\"Davies-Bouldin Score:\", davies)\n",
    "\n",
    "# Condicional para evaluar el modelo en base a las medidas con dos resultados modelo bueno y malo\n",
    "def evaluar_modelo(silhouette, calinski, davies):\n",
    "    if silhouette > 0.5 and calinski > 200 and davies < 1:\n",
    "        return \"Modelo Bueno\"\n",
    "    else:\n",
    "        return \"Modelo Malo\"\n",
    "# Evaluar el modelo\n",
    "resultado = evaluar_modelo(silhouette, calinski, davies)"
   ]
  }
 ],
 "metadata": {
  "kernelspec": {
   "display_name": "base",
   "language": "python",
   "name": "python3"
  },
  "language_info": {
   "codemirror_mode": {
    "name": "ipython",
    "version": 3
   },
   "file_extension": ".py",
   "mimetype": "text/x-python",
   "name": "python",
   "nbconvert_exporter": "python",
   "pygments_lexer": "ipython3",
   "version": "3.8.5"
  }
 },
 "nbformat": 4,
 "nbformat_minor": 2
}
